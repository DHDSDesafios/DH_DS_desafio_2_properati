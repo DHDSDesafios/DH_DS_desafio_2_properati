{
 "cells": [
  {
   "cell_type": "markdown",
   "metadata": {},
   "source": [
    "# **DESAFIO 1 G2** \n",
    "# **Dataset Properati - Aplicacion de modelo predictivo.**\n",
    "---"
   ]
  },
  {
   "cell_type": "markdown",
   "metadata": {},
   "source": [
    "<a id=\"section_toc\"></a> \n",
    "## Tabla de Contenidos\n",
    "\n",
    "[Intro](#section_intro)\n",
    "\n",
    "Seccion 1\n",
    "\n",
    "$\\hspace{.5cm}$[A completar](#section_og)\n",
    "\n",
    "$\\hspace{.9cm}$[A completar](#section_tsv_glp)\n",
    "\n",
    "Seccion 2\n",
    "\n",
    "$\\hspace{.5cm}$[Vacio](#section_re)\n",
    "\n",
    "$\\hspace{.9cm}$[Vacio](#section_re_pg)\n",
    "\n",
    "Seccion 3\n",
    "\n",
    "$\\hspace{.5cm}$[Vacio](#section_drd)\n",
    "\n",
    "Visualizaciones basicas\n",
    "\n",
    "$\\hspace{.5cm}$[Vacio](#section_v_1)\n"
   ]
  },
  {
   "cell_type": "markdown",
   "metadata": {},
   "source": [
    "---"
   ]
  },
  {
   "cell_type": "markdown",
   "metadata": {},
   "source": [
    "<a id=\"section_intro\"></a> \n",
    "## Intro\n",
    "\n",
    "[volver a TOC](#section_toc)"
   ]
  },
  {
   "cell_type": "markdown",
   "metadata": {},
   "source": [
    "Carga de DataFrame y exploracion inicial"
   ]
  },
  {
   "cell_type": "code",
   "execution_count": 1,
   "metadata": {},
   "outputs": [],
   "source": [
    "import pandas as pd\n",
    "import numpy as np\n",
    "import re\n",
    "import random"
   ]
  },
  {
   "cell_type": "code",
   "execution_count": 2,
   "metadata": {},
   "outputs": [],
   "source": [
    "import matplotlib\n",
    "import matplotlib.pyplot as plt\n",
    "import seaborn as sns"
   ]
  },
  {
   "cell_type": "code",
   "execution_count": 4,
   "metadata": {},
   "outputs": [],
   "source": [
    "data_location = 'https://github.com/DHDSDesafios/DH_DS_desafio_2_properati/raw/master/data/properatid2caba.zip'\n",
    "data = pd.read_csv(data_location, compression='zip', encoding=\"utf-8\")"
   ]
  },
  {
   "cell_type": "code",
   "execution_count": 4,
   "metadata": {},
   "outputs": [],
   "source": [
    "pd.set_option('display.max_colwidth', 1500)\n",
    "pd.set_option('display.max_rows', 400)"
   ]
  },
  {
   "cell_type": "markdown",
   "metadata": {},
   "source": [
    "### Temas a revisar"
   ]
  },
  {
   "cell_type": "markdown",
   "metadata": {},
   "source": [
    " * identificar variables features y target.\n",
    " * eliminacion de registros de variables con valores nulos.\n",
    " * creacion de variables dummies.\n",
    " * ajuste de variables:\n",
    "    * outliers.\n",
    "    * repaso regex.\n",
    "    * consistencia (variables dependientes o independientes).\n",
    " * OPCIONAL: imputacion por media/moda/mediana (previa verificacion de outliers y distribucion de las variables) antes de borrar nulos de registros que pueden ser relevantes.\n",
    " * normalizacion de variables para comparacion.\n",
    " * modelos de regresion:\n",
    "    * eleccion de modelo.\n",
    "    * uso de grados de polinomio para mejorar performance?\n",
    "    * ajuste de hiperparametros.\n",
    "    * separacion de datos de training y testing, y cross validation (mejora en ajuste de hiperparametros).\n",
    "    * analisis de resultados (MSE, MAE, RMAE, R2, etc) (podemos comparar contra la libreria de statsmodels, por ejemplo).\n",
    "    \n",
    "    "
   ]
  },
  {
   "cell_type": "code",
   "execution_count": null,
   "metadata": {},
   "outputs": [],
   "source": []
  }
 ],
 "metadata": {
  "kernelspec": {
   "display_name": "Python 3",
   "language": "python",
   "name": "python3"
  },
  "language_info": {
   "codemirror_mode": {
    "name": "ipython",
    "version": 3
   },
   "file_extension": ".py",
   "mimetype": "text/x-python",
   "name": "python",
   "nbconvert_exporter": "python",
   "pygments_lexer": "ipython3",
   "version": "3.7.7"
  }
 },
 "nbformat": 4,
 "nbformat_minor": 4
}
