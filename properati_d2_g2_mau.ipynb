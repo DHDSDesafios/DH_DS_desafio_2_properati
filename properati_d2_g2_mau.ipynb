{
 "cells": [
  {
   "cell_type": "markdown",
   "metadata": {},
   "source": [
    "# **DESAFIO 3 G2** \n",
    "# **Dataset Properati - Modelado de datos - Preliminar.**\n",
    "---"
   ]
  },
  {
   "cell_type": "markdown",
   "metadata": {},
   "source": [
    "<a id=\"section_toc\"></a> \n",
    "## Tabla de Contenidos\n",
    "\n",
    "[Intro](#section_intro)\n",
    "\n",
    "Vacio\n",
    "\n",
    "$\\hspace{.5cm}$[Observaciones generales](#section_og)\n",
    "  \n",
    "$\\hspace{.9cm}$[Dimension de propiedades](#section_tsv_gdp)\n",
    "\n",
    "Vacio\n",
    "\n",
    "$\\hspace{.5cm}$[Expresiones regulares](#section_re)\n",
    "\n",
    "$\\hspace{.9cm}$[Principios generales](#section_re_pg)\n",
    "\n",
    "Vacio\n",
    "\n",
    "$\\hspace{.5cm}$[Borrado de registros duplicados](#section_drd)\n",
    "\n",
    "$\\hspace{.5cm}$[Borrado de registros sin información completa](#section_drii)\n",
    "\n",
    "Visualizaciones basicas\n",
    "\n",
    "$\\hspace{.5cm}$[Venta departamentos CABA](#section_v_1)\n",
    "\n",
    "$\\hspace{.5cm}$[Venta casas CABA, Buenos Aires e Interior](#section_v_4)\n"
   ]
  },
  {
   "cell_type": "markdown",
   "metadata": {},
   "source": [
    "---"
   ]
  },
  {
   "cell_type": "markdown",
   "metadata": {},
   "source": [
    "<a id=\"section_intro\"></a> \n",
    "## Intro\n",
    "\n",
    "[volver a TOC](#section_toc)"
   ]
  },
  {
   "cell_type": "markdown",
   "metadata": {},
   "source": [
    "Carga de DataFrame y exploracion inicial"
   ]
  },
  {
   "cell_type": "code",
   "execution_count": 2,
   "metadata": {},
   "outputs": [],
   "source": [
    "import pandas as pd\n",
    "import numpy as np\n",
    "import re\n",
    "import random"
   ]
  },
  {
   "cell_type": "code",
   "execution_count": 3,
   "metadata": {},
   "outputs": [],
   "source": [
    "import matplotlib\n",
    "import matplotlib.pyplot as plt\n",
    "import seaborn as sns"
   ]
  },
  {
   "cell_type": "code",
   "execution_count": 4,
   "metadata": {},
   "outputs": [],
   "source": [
    "data_location = 'https://github.com/DHDSDesafios/DH_DS_desafio_2_properati/raw/master/data/properatid2caba.zip'\n",
    "data = pd.read_csv(data_location, compression='zip', encoding=\"utf-8\")"
   ]
  },
  {
   "cell_type": "code",
   "execution_count": 5,
   "metadata": {},
   "outputs": [],
   "source": [
    "pd.set_option('display.max_colwidth', 1500)\n",
    "pd.set_option('display.max_rows', 400)"
   ]
  },
  {
   "cell_type": "markdown",
   "metadata": {},
   "source": [
    "<a id=\"section_og\"></a> \n",
    "### Observaciones Generales\n",
    "\n",
    "[volver a TOC](#section_toc)"
   ]
  },
  {
   "cell_type": "code",
   "execution_count": 6,
   "metadata": {},
   "outputs": [
    {
     "data": {
      "text/html": [
       "<div>\n",
       "<style scoped>\n",
       "    .dataframe tbody tr th:only-of-type {\n",
       "        vertical-align: middle;\n",
       "    }\n",
       "\n",
       "    .dataframe tbody tr th {\n",
       "        vertical-align: top;\n",
       "    }\n",
       "\n",
       "    .dataframe thead th {\n",
       "        text-align: right;\n",
       "    }\n",
       "</style>\n",
       "<table border=\"1\" class=\"dataframe\">\n",
       "  <thead>\n",
       "    <tr style=\"text-align: right;\">\n",
       "      <th></th>\n",
       "      <th>Id_caso</th>\n",
       "      <th>property_type</th>\n",
       "      <th>place_with_parent_names</th>\n",
       "      <th>country_name</th>\n",
       "      <th>state_name</th>\n",
       "      <th>lat-lon</th>\n",
       "      <th>lat</th>\n",
       "      <th>lon</th>\n",
       "      <th>price</th>\n",
       "      <th>currency</th>\n",
       "      <th>...</th>\n",
       "      <th>surface_total_in_m2</th>\n",
       "      <th>surface_covered_in_m2</th>\n",
       "      <th>cochera</th>\n",
       "      <th>piscina</th>\n",
       "      <th>parrilla</th>\n",
       "      <th>baulera</th>\n",
       "      <th>balcon</th>\n",
       "      <th>terraza</th>\n",
       "      <th>jardin</th>\n",
       "      <th>lavadero</th>\n",
       "    </tr>\n",
       "  </thead>\n",
       "  <tbody>\n",
       "    <tr>\n",
       "      <th>22326</th>\n",
       "      <td>88598</td>\n",
       "      <td>apartment</td>\n",
       "      <td>|Argentina|Capital Federal|Recoleta|</td>\n",
       "      <td>Argentina</td>\n",
       "      <td>Capital Federal</td>\n",
       "      <td>-34.5973922465,-58.3961431952</td>\n",
       "      <td>-34.597392</td>\n",
       "      <td>-58.396143</td>\n",
       "      <td>287000.0</td>\n",
       "      <td>USD</td>\n",
       "      <td>...</td>\n",
       "      <td>89.0</td>\n",
       "      <td>85.0</td>\n",
       "      <td>NaN</td>\n",
       "      <td>NaN</td>\n",
       "      <td>NaN</td>\n",
       "      <td>NaN</td>\n",
       "      <td>NaN</td>\n",
       "      <td>NaN</td>\n",
       "      <td>NaN</td>\n",
       "      <td>NaN</td>\n",
       "    </tr>\n",
       "    <tr>\n",
       "      <th>19134</th>\n",
       "      <td>77169</td>\n",
       "      <td>apartment</td>\n",
       "      <td>|Argentina|Capital Federal|Balvanera|</td>\n",
       "      <td>Argentina</td>\n",
       "      <td>Capital Federal</td>\n",
       "      <td>-34.605495,-58.4007076</td>\n",
       "      <td>-34.605495</td>\n",
       "      <td>-58.400708</td>\n",
       "      <td>105000.0</td>\n",
       "      <td>USD</td>\n",
       "      <td>...</td>\n",
       "      <td>86.0</td>\n",
       "      <td>86.0</td>\n",
       "      <td>NaN</td>\n",
       "      <td>NaN</td>\n",
       "      <td>NaN</td>\n",
       "      <td>NaN</td>\n",
       "      <td>NaN</td>\n",
       "      <td>NaN</td>\n",
       "      <td>NaN</td>\n",
       "      <td>NaN</td>\n",
       "    </tr>\n",
       "    <tr>\n",
       "      <th>3953</th>\n",
       "      <td>18916</td>\n",
       "      <td>apartment</td>\n",
       "      <td>|Argentina|Capital Federal|Belgrano|</td>\n",
       "      <td>Argentina</td>\n",
       "      <td>Capital Federal</td>\n",
       "      <td>-34.5620844,-58.4566864</td>\n",
       "      <td>-34.562084</td>\n",
       "      <td>-58.456686</td>\n",
       "      <td>280000.0</td>\n",
       "      <td>USD</td>\n",
       "      <td>...</td>\n",
       "      <td>98.0</td>\n",
       "      <td>90.0</td>\n",
       "      <td>1.0</td>\n",
       "      <td>NaN</td>\n",
       "      <td>NaN</td>\n",
       "      <td>NaN</td>\n",
       "      <td>balcon</td>\n",
       "      <td>NaN</td>\n",
       "      <td>NaN</td>\n",
       "      <td>NaN</td>\n",
       "    </tr>\n",
       "    <tr>\n",
       "      <th>1439</th>\n",
       "      <td>7994</td>\n",
       "      <td>apartment</td>\n",
       "      <td>|Argentina|Capital Federal|Caballito|</td>\n",
       "      <td>Argentina</td>\n",
       "      <td>Capital Federal</td>\n",
       "      <td>-34.6058091,-58.4534805</td>\n",
       "      <td>-34.605809</td>\n",
       "      <td>-58.453481</td>\n",
       "      <td>179300.0</td>\n",
       "      <td>USD</td>\n",
       "      <td>...</td>\n",
       "      <td>75.0</td>\n",
       "      <td>68.0</td>\n",
       "      <td>1.0</td>\n",
       "      <td>1.0</td>\n",
       "      <td>NaN</td>\n",
       "      <td>NaN</td>\n",
       "      <td>balcon</td>\n",
       "      <td>1.0</td>\n",
       "      <td>NaN</td>\n",
       "      <td>NaN</td>\n",
       "    </tr>\n",
       "  </tbody>\n",
       "</table>\n",
       "<p>4 rows × 36 columns</p>\n",
       "</div>"
      ],
      "text/plain": [
       "       Id_caso property_type                place_with_parent_names  \\\n",
       "22326    88598     apartment   |Argentina|Capital Federal|Recoleta|   \n",
       "19134    77169     apartment  |Argentina|Capital Federal|Balvanera|   \n",
       "3953     18916     apartment   |Argentina|Capital Federal|Belgrano|   \n",
       "1439      7994     apartment  |Argentina|Capital Federal|Caballito|   \n",
       "\n",
       "      country_name       state_name                        lat-lon        lat  \\\n",
       "22326    Argentina  Capital Federal  -34.5973922465,-58.3961431952 -34.597392   \n",
       "19134    Argentina  Capital Federal         -34.605495,-58.4007076 -34.605495   \n",
       "3953     Argentina  Capital Federal        -34.5620844,-58.4566864 -34.562084   \n",
       "1439     Argentina  Capital Federal        -34.6058091,-58.4534805 -34.605809   \n",
       "\n",
       "             lon     price currency  ...  surface_total_in_m2  \\\n",
       "22326 -58.396143  287000.0      USD  ...                 89.0   \n",
       "19134 -58.400708  105000.0      USD  ...                 86.0   \n",
       "3953  -58.456686  280000.0      USD  ...                 98.0   \n",
       "1439  -58.453481  179300.0      USD  ...                 75.0   \n",
       "\n",
       "       surface_covered_in_m2  cochera  piscina  parrilla baulera  balcon  \\\n",
       "22326                   85.0      NaN      NaN       NaN     NaN     NaN   \n",
       "19134                   86.0      NaN      NaN       NaN     NaN     NaN   \n",
       "3953                    90.0      1.0      NaN       NaN     NaN  balcon   \n",
       "1439                    68.0      1.0      1.0       NaN     NaN  balcon   \n",
       "\n",
       "      terraza jardin lavadero  \n",
       "22326     NaN    NaN      NaN  \n",
       "19134     NaN    NaN      NaN  \n",
       "3953      NaN    NaN      NaN  \n",
       "1439      1.0    NaN      NaN  \n",
       "\n",
       "[4 rows x 36 columns]"
      ]
     },
     "execution_count": 6,
     "metadata": {},
     "output_type": "execute_result"
    }
   ],
   "source": [
    "data.sample(4)"
   ]
  },
  {
   "cell_type": "code",
   "execution_count": 7,
   "metadata": {},
   "outputs": [
    {
     "data": {
      "text/plain": [
       "Index(['Id_caso', 'property_type', 'place_with_parent_names', 'country_name',\n",
       "       'state_name', 'lat-lon', 'lat', 'lon', 'price', 'currency',\n",
       "       'price_aprox_local_currency', 'price_aprox_usd', 'floor', 'rooms',\n",
       "       'expenses', 'description', 'title', 'Pais', 'Zona', 'Partido_barrio',\n",
       "       'Localidad', 'Obs_localidad', 'place_name', 'geonames_id',\n",
       "       'price_usd_per_m2', 'price_per_m2', 'surface_total_in_m2',\n",
       "       'surface_covered_in_m2', 'cochera', 'piscina', 'parrilla', 'baulera',\n",
       "       'balcon', 'terraza', 'jardin', 'lavadero'],\n",
       "      dtype='object')"
      ]
     },
     "execution_count": 7,
     "metadata": {},
     "output_type": "execute_result"
    }
   ],
   "source": [
    "data.columns"
   ]
  },
  {
   "cell_type": "code",
   "execution_count": 8,
   "metadata": {},
   "outputs": [
    {
     "data": {
      "text/plain": [
       "(29380, 36)"
      ]
     },
     "execution_count": 8,
     "metadata": {},
     "output_type": "execute_result"
    }
   ],
   "source": [
    "data.shape"
   ]
  },
  {
   "cell_type": "markdown",
   "metadata": {},
   "source": [
    "DEPURACION DE NULOS"
   ]
  },
  {
   "cell_type": "code",
   "execution_count": 9,
   "metadata": {},
   "outputs": [],
   "source": [
    "caba_place_name_mask = data.place_name != 'Capital Federal'\n",
    "surface_total_mask_notnull = data.surface_total_in_m2.notnull()\n",
    "price_per_m2_mask_notnull = data.price_per_m2.notnull()\n",
    "price_usd_per_m2_mask_notnull = data.price_usd_per_m2.notnull()"
   ]
  },
  {
   "cell_type": "code",
   "execution_count": 10,
   "metadata": {},
   "outputs": [],
   "source": [
    "#data = data.loc[caba_place_name_mask & surface_covered_mask_notnull & price_per_m2_mask_notnull]\n",
    "data = data.loc[caba_place_name_mask & surface_total_mask_notnull & price_usd_per_m2_mask_notnull]"
   ]
  },
  {
   "cell_type": "code",
   "execution_count": 11,
   "metadata": {},
   "outputs": [
    {
     "data": {
      "text/plain": [
       "(21895, 36)"
      ]
     },
     "execution_count": 11,
     "metadata": {},
     "output_type": "execute_result"
    }
   ],
   "source": [
    "data.shape"
   ]
  },
  {
   "cell_type": "code",
   "execution_count": 12,
   "metadata": {},
   "outputs": [
    {
     "data": {
      "text/html": [
       "<div>\n",
       "<style scoped>\n",
       "    .dataframe tbody tr th:only-of-type {\n",
       "        vertical-align: middle;\n",
       "    }\n",
       "\n",
       "    .dataframe tbody tr th {\n",
       "        vertical-align: top;\n",
       "    }\n",
       "\n",
       "    .dataframe thead th {\n",
       "        text-align: right;\n",
       "    }\n",
       "</style>\n",
       "<table border=\"1\" class=\"dataframe\">\n",
       "  <thead>\n",
       "    <tr style=\"text-align: right;\">\n",
       "      <th></th>\n",
       "      <th>Id_caso</th>\n",
       "      <th>property_type</th>\n",
       "      <th>place_with_parent_names</th>\n",
       "      <th>country_name</th>\n",
       "      <th>state_name</th>\n",
       "      <th>lat-lon</th>\n",
       "      <th>lat</th>\n",
       "      <th>lon</th>\n",
       "      <th>price</th>\n",
       "      <th>currency</th>\n",
       "      <th>...</th>\n",
       "      <th>parrilla</th>\n",
       "      <th>baulera</th>\n",
       "      <th>balcon</th>\n",
       "      <th>terraza</th>\n",
       "      <th>jardin</th>\n",
       "      <th>lavadero</th>\n",
       "      <th>prop_type_PH</th>\n",
       "      <th>prop_type_apartment</th>\n",
       "      <th>prop_type_house</th>\n",
       "      <th>prop_type_store</th>\n",
       "    </tr>\n",
       "  </thead>\n",
       "  <tbody>\n",
       "    <tr>\n",
       "      <th>19157</th>\n",
       "      <td>77243</td>\n",
       "      <td>PH</td>\n",
       "      <td>|Argentina|Capital Federal|Villa Pueyrredón|</td>\n",
       "      <td>Argentina</td>\n",
       "      <td>Capital Federal</td>\n",
       "      <td>-34.585716,-58.5097384</td>\n",
       "      <td>-34.585716</td>\n",
       "      <td>-58.509738</td>\n",
       "      <td>128000.0</td>\n",
       "      <td>USD</td>\n",
       "      <td>...</td>\n",
       "      <td>NaN</td>\n",
       "      <td>NaN</td>\n",
       "      <td>balcon</td>\n",
       "      <td>1.0</td>\n",
       "      <td>NaN</td>\n",
       "      <td>1.0</td>\n",
       "      <td>1</td>\n",
       "      <td>0</td>\n",
       "      <td>0</td>\n",
       "      <td>0</td>\n",
       "    </tr>\n",
       "    <tr>\n",
       "      <th>18695</th>\n",
       "      <td>75672</td>\n",
       "      <td>apartment</td>\n",
       "      <td>|Argentina|Capital Federal|Almagro|</td>\n",
       "      <td>Argentina</td>\n",
       "      <td>Capital Federal</td>\n",
       "      <td>-34.6108896,-58.4139636</td>\n",
       "      <td>-34.610890</td>\n",
       "      <td>-58.413964</td>\n",
       "      <td>80520.0</td>\n",
       "      <td>USD</td>\n",
       "      <td>...</td>\n",
       "      <td>NaN</td>\n",
       "      <td>NaN</td>\n",
       "      <td>NaN</td>\n",
       "      <td>NaN</td>\n",
       "      <td>NaN</td>\n",
       "      <td>NaN</td>\n",
       "      <td>0</td>\n",
       "      <td>1</td>\n",
       "      <td>0</td>\n",
       "      <td>0</td>\n",
       "    </tr>\n",
       "    <tr>\n",
       "      <th>2105</th>\n",
       "      <td>10548</td>\n",
       "      <td>apartment</td>\n",
       "      <td>|Argentina|Capital Federal|Belgrano|</td>\n",
       "      <td>Argentina</td>\n",
       "      <td>Capital Federal</td>\n",
       "      <td>-34.5672925,-58.438092</td>\n",
       "      <td>-34.567293</td>\n",
       "      <td>-58.438092</td>\n",
       "      <td>740000.0</td>\n",
       "      <td>USD</td>\n",
       "      <td>...</td>\n",
       "      <td>NaN</td>\n",
       "      <td>1.0</td>\n",
       "      <td>1</td>\n",
       "      <td>1.0</td>\n",
       "      <td>1.0</td>\n",
       "      <td>NaN</td>\n",
       "      <td>0</td>\n",
       "      <td>1</td>\n",
       "      <td>0</td>\n",
       "      <td>0</td>\n",
       "    </tr>\n",
       "    <tr>\n",
       "      <th>16340</th>\n",
       "      <td>65372</td>\n",
       "      <td>apartment</td>\n",
       "      <td>|Argentina|Capital Federal|Palermo|</td>\n",
       "      <td>Argentina</td>\n",
       "      <td>Capital Federal</td>\n",
       "      <td>NaN</td>\n",
       "      <td>NaN</td>\n",
       "      <td>NaN</td>\n",
       "      <td>360000.0</td>\n",
       "      <td>USD</td>\n",
       "      <td>...</td>\n",
       "      <td>NaN</td>\n",
       "      <td>1.0</td>\n",
       "      <td>1</td>\n",
       "      <td>NaN</td>\n",
       "      <td>NaN</td>\n",
       "      <td>NaN</td>\n",
       "      <td>0</td>\n",
       "      <td>1</td>\n",
       "      <td>0</td>\n",
       "      <td>0</td>\n",
       "    </tr>\n",
       "    <tr>\n",
       "      <th>1234</th>\n",
       "      <td>7465</td>\n",
       "      <td>apartment</td>\n",
       "      <td>|Argentina|Capital Federal|Palermo|</td>\n",
       "      <td>Argentina</td>\n",
       "      <td>Capital Federal</td>\n",
       "      <td>-34.583007,-58.420832</td>\n",
       "      <td>-34.583007</td>\n",
       "      <td>-58.420832</td>\n",
       "      <td>636297.0</td>\n",
       "      <td>USD</td>\n",
       "      <td>...</td>\n",
       "      <td>1.0</td>\n",
       "      <td>1.0</td>\n",
       "      <td>1</td>\n",
       "      <td>NaN</td>\n",
       "      <td>NaN</td>\n",
       "      <td>NaN</td>\n",
       "      <td>0</td>\n",
       "      <td>1</td>\n",
       "      <td>0</td>\n",
       "      <td>0</td>\n",
       "    </tr>\n",
       "  </tbody>\n",
       "</table>\n",
       "<p>5 rows × 40 columns</p>\n",
       "</div>"
      ],
      "text/plain": [
       "       Id_caso property_type                       place_with_parent_names  \\\n",
       "19157    77243            PH  |Argentina|Capital Federal|Villa Pueyrredón|   \n",
       "18695    75672     apartment           |Argentina|Capital Federal|Almagro|   \n",
       "2105     10548     apartment          |Argentina|Capital Federal|Belgrano|   \n",
       "16340    65372     apartment           |Argentina|Capital Federal|Palermo|   \n",
       "1234      7465     apartment           |Argentina|Capital Federal|Palermo|   \n",
       "\n",
       "      country_name       state_name                  lat-lon        lat  \\\n",
       "19157    Argentina  Capital Federal   -34.585716,-58.5097384 -34.585716   \n",
       "18695    Argentina  Capital Federal  -34.6108896,-58.4139636 -34.610890   \n",
       "2105     Argentina  Capital Federal   -34.5672925,-58.438092 -34.567293   \n",
       "16340    Argentina  Capital Federal                      NaN        NaN   \n",
       "1234     Argentina  Capital Federal    -34.583007,-58.420832 -34.583007   \n",
       "\n",
       "             lon     price currency  ...  parrilla  baulera  balcon  terraza  \\\n",
       "19157 -58.509738  128000.0      USD  ...       NaN      NaN  balcon      1.0   \n",
       "18695 -58.413964   80520.0      USD  ...       NaN      NaN     NaN      NaN   \n",
       "2105  -58.438092  740000.0      USD  ...       NaN      1.0       1      1.0   \n",
       "16340        NaN  360000.0      USD  ...       NaN      1.0       1      NaN   \n",
       "1234  -58.420832  636297.0      USD  ...       1.0      1.0       1      NaN   \n",
       "\n",
       "       jardin lavadero prop_type_PH prop_type_apartment prop_type_house  \\\n",
       "19157     NaN      1.0            1                   0               0   \n",
       "18695     NaN      NaN            0                   1               0   \n",
       "2105      1.0      NaN            0                   1               0   \n",
       "16340     NaN      NaN            0                   1               0   \n",
       "1234      NaN      NaN            0                   1               0   \n",
       "\n",
       "      prop_type_store  \n",
       "19157               0  \n",
       "18695               0  \n",
       "2105                0  \n",
       "16340               0  \n",
       "1234                0  \n",
       "\n",
       "[5 rows x 40 columns]"
      ]
     },
     "execution_count": 12,
     "metadata": {},
     "output_type": "execute_result"
    }
   ],
   "source": [
    "# crear variables dummies\n",
    "property_type_dummies = pd.get_dummies(data.property_type, prefix='prop_type')\n",
    "\n",
    "data = pd.concat([data, property_type_dummies], axis=1)\n",
    "\n",
    "# imprimimos 5 filas cualquieras\n",
    "data.sample(5)"
   ]
  },
  {
   "cell_type": "code",
   "execution_count": 13,
   "metadata": {},
   "outputs": [
    {
     "data": {
      "text/html": [
       "<div>\n",
       "<style scoped>\n",
       "    .dataframe tbody tr th:only-of-type {\n",
       "        vertical-align: middle;\n",
       "    }\n",
       "\n",
       "    .dataframe tbody tr th {\n",
       "        vertical-align: top;\n",
       "    }\n",
       "\n",
       "    .dataframe thead th {\n",
       "        text-align: right;\n",
       "    }\n",
       "</style>\n",
       "<table border=\"1\" class=\"dataframe\">\n",
       "  <thead>\n",
       "    <tr style=\"text-align: right;\">\n",
       "      <th></th>\n",
       "      <th>Id_caso</th>\n",
       "      <th>property_type</th>\n",
       "      <th>place_with_parent_names</th>\n",
       "      <th>country_name</th>\n",
       "      <th>state_name</th>\n",
       "      <th>lat-lon</th>\n",
       "      <th>lat</th>\n",
       "      <th>lon</th>\n",
       "      <th>price</th>\n",
       "      <th>currency</th>\n",
       "      <th>...</th>\n",
       "      <th>pn_Villa Lugano</th>\n",
       "      <th>pn_Villa Luro</th>\n",
       "      <th>pn_Villa Ortuzar</th>\n",
       "      <th>pn_Villa Pueyrredón</th>\n",
       "      <th>pn_Villa Real</th>\n",
       "      <th>pn_Villa Riachuelo</th>\n",
       "      <th>pn_Villa Santa Rita</th>\n",
       "      <th>pn_Villa Soldati</th>\n",
       "      <th>pn_Villa Urquiza</th>\n",
       "      <th>pn_Villa del Parque</th>\n",
       "    </tr>\n",
       "  </thead>\n",
       "  <tbody>\n",
       "    <tr>\n",
       "      <th>5842</th>\n",
       "      <td>25788</td>\n",
       "      <td>apartment</td>\n",
       "      <td>|Argentina|Capital Federal|Palermo|</td>\n",
       "      <td>Argentina</td>\n",
       "      <td>Capital Federal</td>\n",
       "      <td>-34.5902121,-58.423941</td>\n",
       "      <td>-34.590212</td>\n",
       "      <td>-58.423941</td>\n",
       "      <td>200000.0</td>\n",
       "      <td>USD</td>\n",
       "      <td>...</td>\n",
       "      <td>0</td>\n",
       "      <td>0</td>\n",
       "      <td>0</td>\n",
       "      <td>0</td>\n",
       "      <td>0</td>\n",
       "      <td>0</td>\n",
       "      <td>0</td>\n",
       "      <td>0</td>\n",
       "      <td>0</td>\n",
       "      <td>0</td>\n",
       "    </tr>\n",
       "    <tr>\n",
       "      <th>13678</th>\n",
       "      <td>55911</td>\n",
       "      <td>apartment</td>\n",
       "      <td>|Argentina|Capital Federal|San Telmo|</td>\n",
       "      <td>Argentina</td>\n",
       "      <td>Capital Federal</td>\n",
       "      <td>-34.6244303,-58.3741828</td>\n",
       "      <td>-34.624430</td>\n",
       "      <td>-58.374183</td>\n",
       "      <td>135879.0</td>\n",
       "      <td>USD</td>\n",
       "      <td>...</td>\n",
       "      <td>0</td>\n",
       "      <td>0</td>\n",
       "      <td>0</td>\n",
       "      <td>0</td>\n",
       "      <td>0</td>\n",
       "      <td>0</td>\n",
       "      <td>0</td>\n",
       "      <td>0</td>\n",
       "      <td>0</td>\n",
       "      <td>0</td>\n",
       "    </tr>\n",
       "    <tr>\n",
       "      <th>17872</th>\n",
       "      <td>73467</td>\n",
       "      <td>apartment</td>\n",
       "      <td>|Argentina|Capital Federal|Barrio Norte|</td>\n",
       "      <td>Argentina</td>\n",
       "      <td>Capital Federal</td>\n",
       "      <td>NaN</td>\n",
       "      <td>NaN</td>\n",
       "      <td>NaN</td>\n",
       "      <td>235000.0</td>\n",
       "      <td>USD</td>\n",
       "      <td>...</td>\n",
       "      <td>0</td>\n",
       "      <td>0</td>\n",
       "      <td>0</td>\n",
       "      <td>0</td>\n",
       "      <td>0</td>\n",
       "      <td>0</td>\n",
       "      <td>0</td>\n",
       "      <td>0</td>\n",
       "      <td>0</td>\n",
       "      <td>0</td>\n",
       "    </tr>\n",
       "    <tr>\n",
       "      <th>6435</th>\n",
       "      <td>26614</td>\n",
       "      <td>apartment</td>\n",
       "      <td>|Argentina|Capital Federal|Boedo|</td>\n",
       "      <td>Argentina</td>\n",
       "      <td>Capital Federal</td>\n",
       "      <td>-34.623965,-58.4162375</td>\n",
       "      <td>-34.623965</td>\n",
       "      <td>-58.416238</td>\n",
       "      <td>567900.0</td>\n",
       "      <td>USD</td>\n",
       "      <td>...</td>\n",
       "      <td>0</td>\n",
       "      <td>0</td>\n",
       "      <td>0</td>\n",
       "      <td>0</td>\n",
       "      <td>0</td>\n",
       "      <td>0</td>\n",
       "      <td>0</td>\n",
       "      <td>0</td>\n",
       "      <td>0</td>\n",
       "      <td>0</td>\n",
       "    </tr>\n",
       "    <tr>\n",
       "      <th>25546</th>\n",
       "      <td>106640</td>\n",
       "      <td>apartment</td>\n",
       "      <td>|Argentina|Capital Federal|Puerto Madero|</td>\n",
       "      <td>Argentina</td>\n",
       "      <td>Capital Federal</td>\n",
       "      <td>NaN</td>\n",
       "      <td>NaN</td>\n",
       "      <td>NaN</td>\n",
       "      <td>355953.0</td>\n",
       "      <td>USD</td>\n",
       "      <td>...</td>\n",
       "      <td>0</td>\n",
       "      <td>0</td>\n",
       "      <td>0</td>\n",
       "      <td>0</td>\n",
       "      <td>0</td>\n",
       "      <td>0</td>\n",
       "      <td>0</td>\n",
       "      <td>0</td>\n",
       "      <td>0</td>\n",
       "      <td>0</td>\n",
       "    </tr>\n",
       "  </tbody>\n",
       "</table>\n",
       "<p>5 rows × 101 columns</p>\n",
       "</div>"
      ],
      "text/plain": [
       "       Id_caso property_type                    place_with_parent_names  \\\n",
       "5842     25788     apartment        |Argentina|Capital Federal|Palermo|   \n",
       "13678    55911     apartment      |Argentina|Capital Federal|San Telmo|   \n",
       "17872    73467     apartment   |Argentina|Capital Federal|Barrio Norte|   \n",
       "6435     26614     apartment          |Argentina|Capital Federal|Boedo|   \n",
       "25546   106640     apartment  |Argentina|Capital Federal|Puerto Madero|   \n",
       "\n",
       "      country_name       state_name                  lat-lon        lat  \\\n",
       "5842     Argentina  Capital Federal   -34.5902121,-58.423941 -34.590212   \n",
       "13678    Argentina  Capital Federal  -34.6244303,-58.3741828 -34.624430   \n",
       "17872    Argentina  Capital Federal                      NaN        NaN   \n",
       "6435     Argentina  Capital Federal   -34.623965,-58.4162375 -34.623965   \n",
       "25546    Argentina  Capital Federal                      NaN        NaN   \n",
       "\n",
       "             lon     price currency  ...  pn_Villa Lugano  pn_Villa Luro  \\\n",
       "5842  -58.423941  200000.0      USD  ...                0              0   \n",
       "13678 -58.374183  135879.0      USD  ...                0              0   \n",
       "17872        NaN  235000.0      USD  ...                0              0   \n",
       "6435  -58.416238  567900.0      USD  ...                0              0   \n",
       "25546        NaN  355953.0      USD  ...                0              0   \n",
       "\n",
       "       pn_Villa Ortuzar  pn_Villa Pueyrredón  pn_Villa Real  \\\n",
       "5842                  0                    0              0   \n",
       "13678                 0                    0              0   \n",
       "17872                 0                    0              0   \n",
       "6435                  0                    0              0   \n",
       "25546                 0                    0              0   \n",
       "\n",
       "      pn_Villa Riachuelo pn_Villa Santa Rita pn_Villa Soldati  \\\n",
       "5842                   0                   0                0   \n",
       "13678                  0                   0                0   \n",
       "17872                  0                   0                0   \n",
       "6435                   0                   0                0   \n",
       "25546                  0                   0                0   \n",
       "\n",
       "      pn_Villa Urquiza pn_Villa del Parque  \n",
       "5842                 0                   0  \n",
       "13678                0                   0  \n",
       "17872                0                   0  \n",
       "6435                 0                   0  \n",
       "25546                0                   0  \n",
       "\n",
       "[5 rows x 101 columns]"
      ]
     },
     "execution_count": 13,
     "metadata": {},
     "output_type": "execute_result"
    }
   ],
   "source": [
    "# crear variables dummies\n",
    "place_name_dummies = pd.get_dummies(data.place_name, prefix='pn')\n",
    "\n",
    "data = pd.concat([data, place_name_dummies], axis=1)\n",
    "\n",
    "# imprimimos 5 filas cualquieras\n",
    "data.sample(5)"
   ]
  },
  {
   "cell_type": "code",
   "execution_count": 14,
   "metadata": {},
   "outputs": [
    {
     "data": {
      "text/plain": [
       "(21895, 101)"
      ]
     },
     "execution_count": 14,
     "metadata": {},
     "output_type": "execute_result"
    }
   ],
   "source": [
    "data.shape"
   ]
  },
  {
   "cell_type": "code",
   "execution_count": 15,
   "metadata": {},
   "outputs": [
    {
     "name": "stdout",
     "output_type": "stream",
     "text": [
      "<class 'float'>    21895\n",
      "Name: cochera, dtype: int64\n",
      "<class 'float'>    21895\n",
      "Name: piscina, dtype: int64\n",
      "<class 'float'>    21895\n",
      "Name: parrilla, dtype: int64\n",
      "<class 'float'>    15039\n",
      "<class 'str'>       6856\n",
      "Name: balcon, dtype: int64\n",
      "<class 'float'>    21895\n",
      "Name: terraza, dtype: int64\n",
      "<class 'float'>    21895\n",
      "Name: lavadero, dtype: int64\n",
      "<class 'float'>    21895\n",
      "Name: lavadero, dtype: int64\n",
      "<class 'float'>    21895\n",
      "Name: surface_covered_in_m2, dtype: int64\n",
      "<class 'float'>    21895\n",
      "Name: surface_total_in_m2, dtype: int64\n"
     ]
    }
   ],
   "source": [
    "print(data.cochera.apply(lambda x: type(x)).value_counts())\n",
    "print(data.piscina.apply(lambda x: type(x)).value_counts())\n",
    "print(data.parrilla.apply(lambda x: type(x)).value_counts())\n",
    "print(data.balcon.apply(lambda x: type(x)).value_counts())\n",
    "print(data.terraza.apply(lambda x: type(x)).value_counts())\n",
    "print(data.lavadero.apply(lambda x: type(x)).value_counts())\n",
    "print(data.lavadero.apply(lambda x: type(x)).value_counts())\n",
    "print(data.surface_covered_in_m2.apply(lambda x: type(x)).value_counts())\n",
    "print(data.surface_total_in_m2.apply(lambda x: type(x)).value_counts())"
   ]
  },
  {
   "cell_type": "code",
   "execution_count": 16,
   "metadata": {},
   "outputs": [
    {
     "data": {
      "text/plain": [
       "0        0\n",
       "1        0\n",
       "3        0\n",
       "4        0\n",
       "5        0\n",
       "        ..\n",
       "29375    0\n",
       "29376    0\n",
       "29377    1\n",
       "29378    0\n",
       "29379    0\n",
       "Name: baulera, Length: 21895, dtype: uint8"
      ]
     },
     "execution_count": 16,
     "metadata": {},
     "output_type": "execute_result"
    }
   ],
   "source": [
    "data.loc[data.cochera.isnull(), 'cochera'] = 0\n",
    "data.cochera.astype('uint8')\n",
    "\n",
    "data.loc[data.piscina.isnull(), 'piscina'] = 0\n",
    "data.piscina.astype('uint8')\n",
    "\n",
    "data.loc[data.lavadero.isnull(), 'lavadero'] = 0\n",
    "data.lavadero.astype('uint8')\n",
    "\n",
    "data.loc[data.parrilla.isnull(), 'parrilla'] = 0\n",
    "data.parrilla.astype('uint8')\n",
    "\n",
    "data.loc[data.terraza.isnull(), 'terraza'] = 0\n",
    "data.terraza.astype('uint8')\n",
    "\n",
    "data.loc[data.jardin.isnull(), 'jardin'] = 0\n",
    "data.jardin.astype('uint8')\n",
    "\n",
    "data.loc[data.balcon == 'Balcon', 'balcon'] = 1\n",
    "data.loc[data.balcon == 'BALCON', 'balcon'] = 1\n",
    "data.loc[data.balcon == 'balcon', 'balcon'] = 1\n",
    "data.loc[data.balcon.isnull(), 'balcon'] = 0\n",
    "data.balcon.astype('uint8')\n",
    "\n",
    "data.loc[data.baulera.isnull(), 'baulera'] = 0\n",
    "data.baulera.astype('uint8')"
   ]
  },
  {
   "cell_type": "markdown",
   "metadata": {},
   "source": [
    "Data frame a utilizar en los modelos de estimacion"
   ]
  },
  {
   "cell_type": "code",
   "execution_count": 17,
   "metadata": {},
   "outputs": [],
   "source": [
    "erase_columns = ['Id_caso', 'property_type', 'place_with_parent_names', 'country_name',\n",
    "       'state_name', 'lat-lon', 'lat', 'lon', 'price', 'currency',\n",
    "       'price_aprox_local_currency', 'floor', 'rooms',\n",
    "       'expenses', 'description', 'title', 'Pais', 'Zona', 'Partido_barrio',\n",
    "       'Localidad', 'Obs_localidad', 'place_name']"
   ]
  },
  {
   "cell_type": "code",
   "execution_count": 18,
   "metadata": {},
   "outputs": [],
   "source": [
    "data_d2 = data.drop(data[erase_columns], axis=1)"
   ]
  },
  {
   "cell_type": "code",
   "execution_count": 19,
   "metadata": {},
   "outputs": [
    {
     "data": {
      "text/plain": [
       "Index(['price_aprox_usd', 'geonames_id', 'price_usd_per_m2', 'price_per_m2',\n",
       "       'surface_total_in_m2', 'surface_covered_in_m2', 'cochera', 'piscina',\n",
       "       'parrilla', 'baulera', 'balcon', 'terraza', 'jardin', 'lavadero',\n",
       "       'prop_type_PH', 'prop_type_apartment', 'prop_type_house',\n",
       "       'prop_type_store', 'pn_Abasto', 'pn_Agronomía', 'pn_Almagro',\n",
       "       'pn_Balvanera', 'pn_Barracas', 'pn_Barrio Norte', 'pn_Belgrano',\n",
       "       'pn_Boca', 'pn_Boedo', 'pn_Caballito', 'pn_Catalinas',\n",
       "       'pn_Centro / Microcentro', 'pn_Chacarita', 'pn_Coghlan',\n",
       "       'pn_Colegiales', 'pn_Congreso', 'pn_Constitución', 'pn_Flores',\n",
       "       'pn_Floresta', 'pn_Las Cañitas', 'pn_Liniers', 'pn_Mataderos',\n",
       "       'pn_Monserrat', 'pn_Monte Castro', 'pn_Nuñez', 'pn_Once', 'pn_Palermo',\n",
       "       'pn_Palermo Chico', 'pn_Palermo Hollywood', 'pn_Palermo Soho',\n",
       "       'pn_Palermo Viejo', 'pn_Parque Avellaneda', 'pn_Parque Centenario',\n",
       "       'pn_Parque Chacabuco', 'pn_Parque Chas', 'pn_Parque Patricios',\n",
       "       'pn_Paternal', 'pn_Pompeya', 'pn_Puerto Madero', 'pn_Recoleta',\n",
       "       'pn_Retiro', 'pn_Saavedra', 'pn_San Cristobal', 'pn_San Nicolás',\n",
       "       'pn_San Telmo', 'pn_Tribunales', 'pn_Velez Sarsfield', 'pn_Versalles',\n",
       "       'pn_Villa Crespo', 'pn_Villa Devoto', 'pn_Villa General Mitre',\n",
       "       'pn_Villa Lugano', 'pn_Villa Luro', 'pn_Villa Ortuzar',\n",
       "       'pn_Villa Pueyrredón', 'pn_Villa Real', 'pn_Villa Riachuelo',\n",
       "       'pn_Villa Santa Rita', 'pn_Villa Soldati', 'pn_Villa Urquiza',\n",
       "       'pn_Villa del Parque'],\n",
       "      dtype='object')"
      ]
     },
     "execution_count": 19,
     "metadata": {},
     "output_type": "execute_result"
    }
   ],
   "source": [
    "data_d2.columns"
   ]
  },
  {
   "cell_type": "code",
   "execution_count": 20,
   "metadata": {},
   "outputs": [
    {
     "data": {
      "text/html": [
       "<div>\n",
       "<style scoped>\n",
       "    .dataframe tbody tr th:only-of-type {\n",
       "        vertical-align: middle;\n",
       "    }\n",
       "\n",
       "    .dataframe tbody tr th {\n",
       "        vertical-align: top;\n",
       "    }\n",
       "\n",
       "    .dataframe thead th {\n",
       "        text-align: right;\n",
       "    }\n",
       "</style>\n",
       "<table border=\"1\" class=\"dataframe\">\n",
       "  <thead>\n",
       "    <tr style=\"text-align: right;\">\n",
       "      <th></th>\n",
       "      <th>price_aprox_usd</th>\n",
       "      <th>geonames_id</th>\n",
       "      <th>price_usd_per_m2</th>\n",
       "      <th>price_per_m2</th>\n",
       "      <th>surface_total_in_m2</th>\n",
       "      <th>surface_covered_in_m2</th>\n",
       "      <th>cochera</th>\n",
       "      <th>piscina</th>\n",
       "      <th>parrilla</th>\n",
       "      <th>baulera</th>\n",
       "      <th>...</th>\n",
       "      <th>pn_Villa Lugano</th>\n",
       "      <th>pn_Villa Luro</th>\n",
       "      <th>pn_Villa Ortuzar</th>\n",
       "      <th>pn_Villa Pueyrredón</th>\n",
       "      <th>pn_Villa Real</th>\n",
       "      <th>pn_Villa Riachuelo</th>\n",
       "      <th>pn_Villa Santa Rita</th>\n",
       "      <th>pn_Villa Soldati</th>\n",
       "      <th>pn_Villa Urquiza</th>\n",
       "      <th>pn_Villa del Parque</th>\n",
       "    </tr>\n",
       "  </thead>\n",
       "  <tbody>\n",
       "    <tr>\n",
       "      <th>17951</th>\n",
       "      <td>126000.0</td>\n",
       "      <td>3430348.0</td>\n",
       "      <td>2680.85</td>\n",
       "      <td>3000.00</td>\n",
       "      <td>47.0</td>\n",
       "      <td>42.0</td>\n",
       "      <td>1.0</td>\n",
       "      <td>0.0</td>\n",
       "      <td>0.0</td>\n",
       "      <td>0.0</td>\n",
       "      <td>...</td>\n",
       "      <td>0</td>\n",
       "      <td>0</td>\n",
       "      <td>0</td>\n",
       "      <td>0</td>\n",
       "      <td>0</td>\n",
       "      <td>0</td>\n",
       "      <td>0</td>\n",
       "      <td>0</td>\n",
       "      <td>0</td>\n",
       "      <td>0</td>\n",
       "    </tr>\n",
       "    <tr>\n",
       "      <th>4799</th>\n",
       "      <td>159000.0</td>\n",
       "      <td>3433775.0</td>\n",
       "      <td>1892.86</td>\n",
       "      <td>2523.81</td>\n",
       "      <td>84.0</td>\n",
       "      <td>63.0</td>\n",
       "      <td>0.0</td>\n",
       "      <td>0.0</td>\n",
       "      <td>0.0</td>\n",
       "      <td>0.0</td>\n",
       "      <td>...</td>\n",
       "      <td>0</td>\n",
       "      <td>0</td>\n",
       "      <td>0</td>\n",
       "      <td>0</td>\n",
       "      <td>0</td>\n",
       "      <td>0</td>\n",
       "      <td>0</td>\n",
       "      <td>0</td>\n",
       "      <td>1</td>\n",
       "      <td>0</td>\n",
       "    </tr>\n",
       "    <tr>\n",
       "      <th>2436</th>\n",
       "      <td>520000.0</td>\n",
       "      <td>3435356.0</td>\n",
       "      <td>2241.38</td>\n",
       "      <td>2363.64</td>\n",
       "      <td>232.0</td>\n",
       "      <td>220.0</td>\n",
       "      <td>0.0</td>\n",
       "      <td>0.0</td>\n",
       "      <td>1.0</td>\n",
       "      <td>0.0</td>\n",
       "      <td>...</td>\n",
       "      <td>0</td>\n",
       "      <td>0</td>\n",
       "      <td>0</td>\n",
       "      <td>0</td>\n",
       "      <td>0</td>\n",
       "      <td>0</td>\n",
       "      <td>0</td>\n",
       "      <td>0</td>\n",
       "      <td>0</td>\n",
       "      <td>0</td>\n",
       "    </tr>\n",
       "    <tr>\n",
       "      <th>28118</th>\n",
       "      <td>269000.0</td>\n",
       "      <td>3436077.0</td>\n",
       "      <td>2514.02</td>\n",
       "      <td>2514.02</td>\n",
       "      <td>107.0</td>\n",
       "      <td>107.0</td>\n",
       "      <td>0.0</td>\n",
       "      <td>0.0</td>\n",
       "      <td>0.0</td>\n",
       "      <td>0.0</td>\n",
       "      <td>...</td>\n",
       "      <td>0</td>\n",
       "      <td>0</td>\n",
       "      <td>0</td>\n",
       "      <td>0</td>\n",
       "      <td>0</td>\n",
       "      <td>0</td>\n",
       "      <td>0</td>\n",
       "      <td>0</td>\n",
       "      <td>0</td>\n",
       "      <td>0</td>\n",
       "    </tr>\n",
       "    <tr>\n",
       "      <th>16163</th>\n",
       "      <td>157000.0</td>\n",
       "      <td>3429153.0</td>\n",
       "      <td>1744.44</td>\n",
       "      <td>2065.79</td>\n",
       "      <td>90.0</td>\n",
       "      <td>76.0</td>\n",
       "      <td>0.0</td>\n",
       "      <td>0.0</td>\n",
       "      <td>0.0</td>\n",
       "      <td>1.0</td>\n",
       "      <td>...</td>\n",
       "      <td>0</td>\n",
       "      <td>0</td>\n",
       "      <td>0</td>\n",
       "      <td>0</td>\n",
       "      <td>0</td>\n",
       "      <td>0</td>\n",
       "      <td>0</td>\n",
       "      <td>0</td>\n",
       "      <td>0</td>\n",
       "      <td>0</td>\n",
       "    </tr>\n",
       "  </tbody>\n",
       "</table>\n",
       "<p>5 rows × 79 columns</p>\n",
       "</div>"
      ],
      "text/plain": [
       "       price_aprox_usd  geonames_id  price_usd_per_m2  price_per_m2  \\\n",
       "17951         126000.0    3430348.0           2680.85       3000.00   \n",
       "4799          159000.0    3433775.0           1892.86       2523.81   \n",
       "2436          520000.0    3435356.0           2241.38       2363.64   \n",
       "28118         269000.0    3436077.0           2514.02       2514.02   \n",
       "16163         157000.0    3429153.0           1744.44       2065.79   \n",
       "\n",
       "       surface_total_in_m2  surface_covered_in_m2  cochera  piscina  parrilla  \\\n",
       "17951                 47.0                   42.0      1.0      0.0       0.0   \n",
       "4799                  84.0                   63.0      0.0      0.0       0.0   \n",
       "2436                 232.0                  220.0      0.0      0.0       1.0   \n",
       "28118                107.0                  107.0      0.0      0.0       0.0   \n",
       "16163                 90.0                   76.0      0.0      0.0       0.0   \n",
       "\n",
       "       baulera  ... pn_Villa Lugano  pn_Villa Luro  pn_Villa Ortuzar  \\\n",
       "17951      0.0  ...               0              0                 0   \n",
       "4799       0.0  ...               0              0                 0   \n",
       "2436       0.0  ...               0              0                 0   \n",
       "28118      0.0  ...               0              0                 0   \n",
       "16163      1.0  ...               0              0                 0   \n",
       "\n",
       "       pn_Villa Pueyrredón  pn_Villa Real  pn_Villa Riachuelo  \\\n",
       "17951                    0              0                   0   \n",
       "4799                     0              0                   0   \n",
       "2436                     0              0                   0   \n",
       "28118                    0              0                   0   \n",
       "16163                    0              0                   0   \n",
       "\n",
       "       pn_Villa Santa Rita  pn_Villa Soldati  pn_Villa Urquiza  \\\n",
       "17951                    0                 0                 0   \n",
       "4799                     0                 0                 1   \n",
       "2436                     0                 0                 0   \n",
       "28118                    0                 0                 0   \n",
       "16163                    0                 0                 0   \n",
       "\n",
       "       pn_Villa del Parque  \n",
       "17951                    0  \n",
       "4799                     0  \n",
       "2436                     0  \n",
       "28118                    0  \n",
       "16163                    0  \n",
       "\n",
       "[5 rows x 79 columns]"
      ]
     },
     "execution_count": 20,
     "metadata": {},
     "output_type": "execute_result"
    }
   ],
   "source": [
    "data_d2.sample(5)"
   ]
  },
  {
   "cell_type": "code",
   "execution_count": 21,
   "metadata": {},
   "outputs": [
    {
     "data": {
      "text/plain": [
       "(21895, 79)"
      ]
     },
     "execution_count": 21,
     "metadata": {},
     "output_type": "execute_result"
    }
   ],
   "source": [
    "data_d2.shape"
   ]
  },
  {
   "cell_type": "code",
   "execution_count": 22,
   "metadata": {},
   "outputs": [
    {
     "data": {
      "text/html": [
       "<div>\n",
       "<style scoped>\n",
       "    .dataframe tbody tr th:only-of-type {\n",
       "        vertical-align: middle;\n",
       "    }\n",
       "\n",
       "    .dataframe tbody tr th {\n",
       "        vertical-align: top;\n",
       "    }\n",
       "\n",
       "    .dataframe thead th {\n",
       "        text-align: right;\n",
       "    }\n",
       "</style>\n",
       "<table border=\"1\" class=\"dataframe\">\n",
       "  <thead>\n",
       "    <tr style=\"text-align: right;\">\n",
       "      <th></th>\n",
       "      <th>price_aprox_usd</th>\n",
       "      <th>price_usd_per_m2</th>\n",
       "      <th>surface_covered_in_m2</th>\n",
       "      <th>surface_total_in_m2</th>\n",
       "      <th>cochera</th>\n",
       "      <th>price_per_m2</th>\n",
       "    </tr>\n",
       "  </thead>\n",
       "  <tbody>\n",
       "    <tr>\n",
       "      <th>price_aprox_usd</th>\n",
       "      <td>1.000000</td>\n",
       "      <td>0.302166</td>\n",
       "      <td>0.533039</td>\n",
       "      <td>0.688091</td>\n",
       "      <td>0.123152</td>\n",
       "      <td>0.179876</td>\n",
       "    </tr>\n",
       "    <tr>\n",
       "      <th>price_usd_per_m2</th>\n",
       "      <td>0.302166</td>\n",
       "      <td>1.000000</td>\n",
       "      <td>-0.045287</td>\n",
       "      <td>-0.013623</td>\n",
       "      <td>-0.006962</td>\n",
       "      <td>0.534345</td>\n",
       "    </tr>\n",
       "    <tr>\n",
       "      <th>surface_covered_in_m2</th>\n",
       "      <td>0.533039</td>\n",
       "      <td>-0.045287</td>\n",
       "      <td>1.000000</td>\n",
       "      <td>0.955764</td>\n",
       "      <td>0.047292</td>\n",
       "      <td>-0.035868</td>\n",
       "    </tr>\n",
       "    <tr>\n",
       "      <th>surface_total_in_m2</th>\n",
       "      <td>0.688091</td>\n",
       "      <td>-0.013623</td>\n",
       "      <td>0.955764</td>\n",
       "      <td>1.000000</td>\n",
       "      <td>0.001979</td>\n",
       "      <td>-0.005299</td>\n",
       "    </tr>\n",
       "    <tr>\n",
       "      <th>cochera</th>\n",
       "      <td>0.123152</td>\n",
       "      <td>-0.006962</td>\n",
       "      <td>0.047292</td>\n",
       "      <td>0.001979</td>\n",
       "      <td>1.000000</td>\n",
       "      <td>0.002630</td>\n",
       "    </tr>\n",
       "    <tr>\n",
       "      <th>price_per_m2</th>\n",
       "      <td>0.179876</td>\n",
       "      <td>0.534345</td>\n",
       "      <td>-0.035868</td>\n",
       "      <td>-0.005299</td>\n",
       "      <td>0.002630</td>\n",
       "      <td>1.000000</td>\n",
       "    </tr>\n",
       "  </tbody>\n",
       "</table>\n",
       "</div>"
      ],
      "text/plain": [
       "                       price_aprox_usd  price_usd_per_m2  \\\n",
       "price_aprox_usd               1.000000          0.302166   \n",
       "price_usd_per_m2              0.302166          1.000000   \n",
       "surface_covered_in_m2         0.533039         -0.045287   \n",
       "surface_total_in_m2           0.688091         -0.013623   \n",
       "cochera                       0.123152         -0.006962   \n",
       "price_per_m2                  0.179876          0.534345   \n",
       "\n",
       "                       surface_covered_in_m2  surface_total_in_m2   cochera  \\\n",
       "price_aprox_usd                     0.533039             0.688091  0.123152   \n",
       "price_usd_per_m2                   -0.045287            -0.013623 -0.006962   \n",
       "surface_covered_in_m2               1.000000             0.955764  0.047292   \n",
       "surface_total_in_m2                 0.955764             1.000000  0.001979   \n",
       "cochera                             0.047292             0.001979  1.000000   \n",
       "price_per_m2                       -0.035868            -0.005299  0.002630   \n",
       "\n",
       "                       price_per_m2  \n",
       "price_aprox_usd            0.179876  \n",
       "price_usd_per_m2           0.534345  \n",
       "surface_covered_in_m2     -0.035868  \n",
       "surface_total_in_m2       -0.005299  \n",
       "cochera                    0.002630  \n",
       "price_per_m2               1.000000  "
      ]
     },
     "execution_count": 22,
     "metadata": {},
     "output_type": "execute_result"
    }
   ],
   "source": [
    "data_d2.loc[:, ['price_aprox_usd', 'price_usd_per_m2', 'surface_covered_in_m2', 'surface_total_in_m2', 'cochera', 'price_per_m2']].corr()"
   ]
  },
  {
   "cell_type": "code",
   "execution_count": 23,
   "metadata": {},
   "outputs": [],
   "source": [
    "#f, ax = plt.subplots(figsize=(7, 5))\n",
    "#ax.heatmap(data.corr(), vmin=-1, vmax=1, center=0, annot=True, cmap=sns.diverging_palette(20, 220, n=200), square=True)\n",
    "\n",
    "#with sns.axes_style(\"white\"):\n",
    "#    f, ax = plt.subplots(figsize=(8, 8))\n",
    "#    ax = sns.heatmap(data.corr(), vmax=.3, annot=True, square=True, cmap=\"YlGnBu\")"
   ]
  },
  {
   "cell_type": "code",
   "execution_count": 24,
   "metadata": {},
   "outputs": [],
   "source": [
    "feature_cols = ['cochera', 'prop_type_PH', 'prop_type_apartment', 'prop_type_house','prop_type_store', 'pn_Abasto', 'pn_Agronomía', 'pn_Almagro',\n",
    "       'pn_Balvanera', 'pn_Barracas', 'pn_Barrio Norte', 'pn_Belgrano',\n",
    "       'pn_Boca', 'pn_Boedo', 'pn_Caballito', 'pn_Catalinas',\n",
    "       'pn_Centro / Microcentro', 'pn_Chacarita', 'pn_Coghlan',\n",
    "       'pn_Colegiales', 'pn_Congreso', 'pn_Constitución', 'pn_Flores',\n",
    "       'pn_Floresta', 'pn_Las Cañitas', 'pn_Liniers', 'pn_Mataderos',\n",
    "       'pn_Monserrat', 'pn_Monte Castro', 'pn_Nuñez', 'pn_Once', 'pn_Palermo',\n",
    "       'pn_Palermo Chico', 'pn_Palermo Hollywood', 'pn_Palermo Soho',\n",
    "       'pn_Palermo Viejo', 'pn_Parque Avellaneda', 'pn_Parque Centenario',\n",
    "       'pn_Parque Chacabuco', 'pn_Parque Chas', 'pn_Parque Patricios',\n",
    "       'pn_Paternal', 'pn_Pompeya', 'pn_Puerto Madero', 'pn_Recoleta',\n",
    "       'pn_Retiro', 'pn_Saavedra', 'pn_San Cristobal', 'pn_San Nicolás',\n",
    "       'pn_San Telmo', 'pn_Tribunales', 'pn_Velez Sarsfield', 'pn_Versalles',\n",
    "       'pn_Villa Crespo', 'pn_Villa Devoto', 'pn_Villa General Mitre',\n",
    "       'pn_Villa Lugano', 'pn_Villa Luro', 'pn_Villa Ortuzar',\n",
    "       'pn_Villa Pueyrredón', 'pn_Villa Real', 'pn_Villa Riachuelo',\n",
    "       'pn_Villa Santa Rita', 'pn_Villa Soldati', 'pn_Villa Urquiza',\n",
    "       'pn_Villa del Parque', 'surface_total_in_m2']"
   ]
  },
  {
   "cell_type": "code",
   "execution_count": 25,
   "metadata": {},
   "outputs": [
    {
     "data": {
      "text/plain": [
       "False    21167\n",
       "True       728\n",
       "Name: surface_covered_in_m2, dtype: int64"
      ]
     },
     "execution_count": 25,
     "metadata": {},
     "output_type": "execute_result"
    }
   ],
   "source": [
    "data_d2['surface_covered_in_m2'].isnull().value_counts()"
   ]
  },
  {
   "cell_type": "code",
   "execution_count": 26,
   "metadata": {},
   "outputs": [],
   "source": [
    "from sklearn.linear_model import LinearRegression \n",
    "from sklearn.model_selection import train_test_split \n",
    "from sklearn.metrics import mean_absolute_error, mean_squared_error, r2_score "
   ]
  },
  {
   "cell_type": "code",
   "execution_count": 27,
   "metadata": {},
   "outputs": [
    {
     "name": "stdout",
     "output_type": "stream",
     "text": [
      "MAE: 1108.28\n",
      "MSE: 7330655.84\n",
      "RMSE: 2707.52\n",
      "R2: 0.32\n"
     ]
    }
   ],
   "source": [
    "model = LinearRegression(fit_intercept=True) \n",
    "\n",
    "X = data_d2[feature_cols] \n",
    "y = data_d2.price_usd_per_m2\n",
    "Xtrain, Xtest, ytrain, ytest = train_test_split(X, y, random_state=1) \n",
    "\n",
    "model.fit(Xtrain, ytrain) \n",
    "\n",
    "ypred = model.predict(Xtest) \n",
    "\n",
    "print ('MAE:', mean_absolute_error(ytest, ypred).round(2)) \n",
    "print ('MSE:', mean_squared_error(ytest, ypred).round(2)) \n",
    "print ('RMSE:', np.sqrt(mean_squared_error(ytest, ypred)).round(2)) \n",
    "print ('R2:', r2_score(ytest, ypred).round(2)) "
   ]
  },
  {
   "cell_type": "code",
   "execution_count": 28,
   "metadata": {},
   "outputs": [
    {
     "data": {
      "text/plain": [
       "((21895, 101), (21895, 79))"
      ]
     },
     "execution_count": 28,
     "metadata": {},
     "output_type": "execute_result"
    }
   ],
   "source": [
    "data.shape, data_d2.shape"
   ]
  },
  {
   "cell_type": "markdown",
   "metadata": {},
   "source": [
    "REVISION DE OUTLIERS"
   ]
  },
  {
   "cell_type": "code",
   "execution_count": 33,
   "metadata": {},
   "outputs": [],
   "source": [
    "def remove_outlier(df_in, qt1, qt3, iqrout, col_name, mask1, var1, mask2=None, var2=None):\n",
    "    '''\n",
    "    Calculo de outliers\n",
    "\n",
    "    Parameters\n",
    "    ----------\n",
    "    df_in : dataFrame\n",
    "        dataFrame utilizado para extraer variables de filtro y mascaras.\n",
    "    qt1, qt3: float\n",
    "        Cuantil inferior y superior (0 a 1).\n",
    "    iqrout: float\n",
    "        Margen exterior a iqr (1.5 o 3 recomendado)\n",
    "    var1, var2: str\n",
    "        Nombre de columnas de dataFrame ingresado como parametro para aplicar filtro sobre los datos.\n",
    "    mask1, mask2: str\n",
    "        Valores para utilizar con las columnas de filtro para generar mascaras booleanas.\n",
    "    col_name: str\n",
    "        Variable a aplicar los outliers.\n",
    "    \n",
    "    Output\n",
    "    ------\n",
    "    dataFrame filtrado por parametros con los outliers aplicados.\n",
    "\n",
    "    Example\n",
    "    ----------\n",
    "    remove_outlier(data, 0.25, 0.75, 1.5, 'price_usd_per_m2', 'Belgrano', 'place_name', 'PH', 'property_type')\n",
    "    \n",
    "    '''\n",
    "    \n",
    "    if (mask2 is None and var2 is not None) | (mask2 is not None and var2 is None):\n",
    "        return 'you must set second mask with second variable'\n",
    "    elif mask2 is None and var2 is None:\n",
    "        var_mask = df_in[var1] == mask1\n",
    "    else:\n",
    "        var_mask = (df_in[var1] == mask1) & (df_in[var2] == mask2)\n",
    "        \n",
    "    q1 = df_in.loc[var_mask, col_name].quantile(qt1)\n",
    "    q3 = df_in.loc[var_mask, col_name].quantile(qt3)\n",
    "    \n",
    "    iqr = q3-q1 #Interquartile range\n",
    "    \n",
    "    fence_low  = q1-iqrout*iqr\n",
    "    fence_high = q3+iqrout*iqr\n",
    "    \n",
    "    df_out = df_in.loc[(df_in[col_name] > fence_low) & (df_in[col_name] < fence_high) & var_mask]\n",
    "    \n",
    "    return df_out"
   ]
  },
  {
   "cell_type": "code",
   "execution_count": 32,
   "metadata": {},
   "outputs": [],
   "source": [
    "df_final = pd.DataFrame()\n",
    "place_name_list = data.place_name.unique()\n",
    "prop_type_list = data.property_type.unique()\n",
    "for pn in place_name_list:\n",
    "    for pt in prop_type_list:\n",
    "        df_temp = remove_outlier(data, 0.25, 0.75, 1.5, 'price_usd_per_m2', pn, 'place_name', pt, 'property_type')\n",
    "        df_final = df_final.append(df_temp)"
   ]
  },
  {
   "cell_type": "code",
   "execution_count": 34,
   "metadata": {},
   "outputs": [],
   "source": [
    "df_final = pd.DataFrame()\n",
    "place_name_list = data.place_name.unique()\n",
    "prop_type_list = data.property_type.unique()\n",
    "for pn in place_name_list:\n",
    "    for pt in prop_type_list:\n",
    "        df_temp = remove_outlier(data, 0.25, 0.75, 1.5, 'surface_total_in_m2', pn, 'place_name', pt, 'property_type')\n",
    "        df_final = df_final.append(df_temp)"
   ]
  },
  {
   "cell_type": "code",
   "execution_count": 35,
   "metadata": {},
   "outputs": [],
   "source": [
    "df_final = pd.DataFrame()\n",
    "place_name_list = data.place_name.unique()\n",
    "prop_type_list = data.property_type.unique()\n",
    "for pn in place_name_list:\n",
    "    for pt in prop_type_list:\n",
    "        df_temp = remove_outlier(data, 0.25, 0.75, 1.5, 'surface_covered_in_m2', pn, 'place_name', pt, 'property_type')\n",
    "        df_final = df_final.append(df_temp)"
   ]
  },
  {
   "cell_type": "code",
   "execution_count": 36,
   "metadata": {},
   "outputs": [
    {
     "data": {
      "text/plain": [
       "(19790, 101)"
      ]
     },
     "execution_count": 36,
     "metadata": {},
     "output_type": "execute_result"
    }
   ],
   "source": [
    "df_final.shape"
   ]
  },
  {
   "cell_type": "code",
   "execution_count": 37,
   "metadata": {},
   "outputs": [
    {
     "data": {
      "image/png": "[encoded data removed]",
      "text/plain": [
       "<Figure size 432x288 with 1 Axes>"
      ]
     },
     "metadata": {
      "needs_background": "light"
     },
     "output_type": "display_data"
    }
   ],
   "source": [
    "plt.boxplot(df_final[\"price_usd_per_m2\"], vert = False)\n",
    "plt.show()"
   ]
  },
  {
   "cell_type": "code",
   "execution_count": 38,
   "metadata": {},
   "outputs": [
    {
     "data": {
      "image/png": "[encoded data removed]",
      "text/plain": [
       "<Figure size 432x288 with 1 Axes>"
      ]
     },
     "metadata": {
      "needs_background": "light"
     },
     "output_type": "display_data"
    }
   ],
   "source": [
    "plt.boxplot(data[\"price_usd_per_m2\"], vert = False)\n",
    "plt.show()"
   ]
  },
  {
   "cell_type": "code",
   "execution_count": 53,
   "metadata": {},
   "outputs": [
    {
     "data": {
      "text/plain": [
       "(206333.33, 13.8)"
      ]
     },
     "execution_count": 53,
     "metadata": {},
     "output_type": "execute_result"
    }
   ],
   "source": [
    "# variable price_per_m2 SIN calculo de outliers\n",
    "data.price_usd_per_m2.max(), data.price_usd_per_m2.min()"
   ]
  },
  {
   "cell_type": "code",
   "execution_count": 54,
   "metadata": {},
   "outputs": [
    {
     "data": {
      "text/plain": [
       "(34608.0, 13.8)"
      ]
     },
     "execution_count": 54,
     "metadata": {},
     "output_type": "execute_result"
    }
   ],
   "source": [
    "# variable price_per_m2 CON calculo de outliers\n",
    "df_final.price_usd_per_m2.max(), df_final.price_usd_per_m2.min()"
   ]
  },
  {
   "cell_type": "code",
   "execution_count": null,
   "metadata": {},
   "outputs": [],
   "source": []
  }
 ],
 "metadata": {
  "kernelspec": {
   "display_name": "Python 3",
   "language": "python",
   "name": "python3"
  },
  "language_info": {
   "codemirror_mode": {
    "name": "ipython",
    "version": 3
   },
   "file_extension": ".py",
   "mimetype": "text/x-python",
   "name": "python",
   "nbconvert_exporter": "python",
   "pygments_lexer": "ipython3",
   "version": "3.7.7"
  }
 },
 "nbformat": 4,
 "nbformat_minor": 4
}
