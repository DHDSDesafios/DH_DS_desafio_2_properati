{
 "cells": [
  {
   "cell_type": "code",
   "execution_count": 1,
   "metadata": {},
   "outputs": [],
   "source": [
    "import pandas as pd\n",
    "import numpy as np\n",
    "import re\n",
    "import random"
   ]
  },
  {
   "cell_type": "code",
   "execution_count": 2,
   "metadata": {},
   "outputs": [],
   "source": [
    "data_location = 'https://github.com/DHDSDesafios/DH_DS_desafio_2_properati/raw/master/data/properatid2caba.zip'\n",
    "data = pd.read_csv(data_location, compression='zip', encoding=\"utf-8\")"
   ]
  },
  {
   "cell_type": "code",
   "execution_count": 3,
   "metadata": {},
   "outputs": [
    {
     "data": {
      "text/plain": [
       "Id_caso                           0\n",
       "property_type                     0\n",
       "place_with_parent_names           0\n",
       "country_name                      0\n",
       "state_name                        0\n",
       "lat-lon                        6810\n",
       "lat                            6810\n",
       "lon                            6810\n",
       "price                          1756\n",
       "currency                       1756\n",
       "price_aprox_local_currency     1756\n",
       "price_aprox_usd                1532\n",
       "floor                         26480\n",
       "rooms                         11341\n",
       "expenses                      23009\n",
       "description                       0\n",
       "title                             0\n",
       "Pais                              0\n",
       "Zona                              0\n",
       "Partido_barrio                  336\n",
       "Localidad                     28266\n",
       "Obs_localidad                 29380\n",
       "place_name                        0\n",
       "geonames_id                       0\n",
       "price_usd_per_m2               7227\n",
       "price_per_m2                   2512\n",
       "surface_total_in_m2            5527\n",
       "surface_covered_in_m2          1617\n",
       "cochera                       19299\n",
       "piscina                       22686\n",
       "parrilla                      21319\n",
       "baulera                       24951\n",
       "balcon                        20458\n",
       "terraza                       21601\n",
       "jardin                        28347\n",
       "lavadero                      21547\n",
       "dtype: int64"
      ]
     },
     "execution_count": 3,
     "metadata": {},
     "output_type": "execute_result"
    }
   ],
   "source": [
    "data.isnull().sum()"
   ]
  },
  {
   "cell_type": "code",
   "execution_count": 4,
   "metadata": {},
   "outputs": [],
   "source": [
    "# imputamos los nulos de mt2 totales con los valores de mt2 cubiertos y lo mismo para las columnas de precio:\n",
    "\n",
    "super_cub_no_nulo = data.surface_covered_in_m2.notnull()\n",
    "data.loc[super_cub_no_nulo, \"surface_total_in_m2\"] = data.loc[super_cub_no_nulo, \"surface_covered_in_m2\"]\n",
    "\n"
   ]
  },
  {
   "cell_type": "code",
   "execution_count": 5,
   "metadata": {},
   "outputs": [
    {
     "data": {
      "text/plain": [
       "place_name\n",
       "Abasto              2057.05\n",
       "Agronomía           2088.12\n",
       "Almagro             2753.35\n",
       "Balvanera           1983.00\n",
       "Barracas            1977.81\n",
       "                     ...   \n",
       "Villa Riachuelo     1110.69\n",
       "Villa Santa Rita    1889.19\n",
       "Villa Soldati        736.93\n",
       "Villa Urquiza       2502.35\n",
       "Villa del Parque    2191.73\n",
       "Name: price_usd_per_m2, Length: 62, dtype: float64"
      ]
     },
     "execution_count": 5,
     "metadata": {},
     "output_type": "execute_result"
    }
   ],
   "source": [
    "# media de precios por barrios\n",
    "\n",
    "data.groupby(\"place_name\")[\"price_usd_per_m2\"].mean().round(2)"
   ]
  },
  {
   "cell_type": "code",
   "execution_count": 6,
   "metadata": {},
   "outputs": [],
   "source": [
    "# armamos un data con los nulos de precio y solo algunas columnas\n",
    "\n",
    "precio_nulo = data.price_usd_per_m2.isnull()\n",
    "x = data.loc[precio_nulo,[\"Id_caso\", \"place_name\", \"price_usd_per_m2\"]]\n"
   ]
  },
  {
   "cell_type": "code",
   "execution_count": 7,
   "metadata": {},
   "outputs": [],
   "source": [
    "x.set_index(\"Id_caso\", inplace = True)"
   ]
  },
  {
   "cell_type": "code",
   "execution_count": 8,
   "metadata": {},
   "outputs": [
    {
     "data": {
      "text/html": [
       "<div>\n",
       "<style scoped>\n",
       "    .dataframe tbody tr th:only-of-type {\n",
       "        vertical-align: middle;\n",
       "    }\n",
       "\n",
       "    .dataframe tbody tr th {\n",
       "        vertical-align: top;\n",
       "    }\n",
       "\n",
       "    .dataframe thead th {\n",
       "        text-align: right;\n",
       "    }\n",
       "</style>\n",
       "<table border=\"1\" class=\"dataframe\">\n",
       "  <thead>\n",
       "    <tr style=\"text-align: right;\">\n",
       "      <th></th>\n",
       "      <th>nulos</th>\n",
       "      <th>place_name</th>\n",
       "      <th>porc</th>\n",
       "    </tr>\n",
       "  </thead>\n",
       "  <tbody>\n",
       "    <tr>\n",
       "      <th>Catalinas</th>\n",
       "      <td>3</td>\n",
       "      <td>4</td>\n",
       "      <td>75.00</td>\n",
       "    </tr>\n",
       "    <tr>\n",
       "      <th>Parque Chas</th>\n",
       "      <td>29</td>\n",
       "      <td>44</td>\n",
       "      <td>65.91</td>\n",
       "    </tr>\n",
       "    <tr>\n",
       "      <th>Villa Soldati</th>\n",
       "      <td>8</td>\n",
       "      <td>14</td>\n",
       "      <td>57.14</td>\n",
       "    </tr>\n",
       "    <tr>\n",
       "      <th>Versalles</th>\n",
       "      <td>29</td>\n",
       "      <td>55</td>\n",
       "      <td>52.73</td>\n",
       "    </tr>\n",
       "    <tr>\n",
       "      <th>Villa Santa Rita</th>\n",
       "      <td>29</td>\n",
       "      <td>56</td>\n",
       "      <td>51.79</td>\n",
       "    </tr>\n",
       "    <tr>\n",
       "      <th>...</th>\n",
       "      <td>...</td>\n",
       "      <td>...</td>\n",
       "      <td>...</td>\n",
       "    </tr>\n",
       "    <tr>\n",
       "      <th>Villa Ortuzar</th>\n",
       "      <td>9</td>\n",
       "      <td>85</td>\n",
       "      <td>10.59</td>\n",
       "    </tr>\n",
       "    <tr>\n",
       "      <th>Boedo</th>\n",
       "      <td>88</td>\n",
       "      <td>852</td>\n",
       "      <td>10.33</td>\n",
       "    </tr>\n",
       "    <tr>\n",
       "      <th>Palermo Hollywood</th>\n",
       "      <td>48</td>\n",
       "      <td>474</td>\n",
       "      <td>10.13</td>\n",
       "    </tr>\n",
       "    <tr>\n",
       "      <th>Las Cañitas</th>\n",
       "      <td>14</td>\n",
       "      <td>140</td>\n",
       "      <td>10.00</td>\n",
       "    </tr>\n",
       "    <tr>\n",
       "      <th>Palermo Viejo</th>\n",
       "      <td>3</td>\n",
       "      <td>40</td>\n",
       "      <td>7.50</td>\n",
       "    </tr>\n",
       "  </tbody>\n",
       "</table>\n",
       "<p>62 rows × 3 columns</p>\n",
       "</div>"
      ],
      "text/plain": [
       "                   nulos  place_name   porc\n",
       "Catalinas              3           4  75.00\n",
       "Parque Chas           29          44  65.91\n",
       "Villa Soldati          8          14  57.14\n",
       "Versalles             29          55  52.73\n",
       "Villa Santa Rita      29          56  51.79\n",
       "...                  ...         ...    ...\n",
       "Villa Ortuzar          9          85  10.59\n",
       "Boedo                 88         852  10.33\n",
       "Palermo Hollywood     48         474  10.13\n",
       "Las Cañitas           14         140  10.00\n",
       "Palermo Viejo          3          40   7.50\n",
       "\n",
       "[62 rows x 3 columns]"
      ]
     },
     "execution_count": 8,
     "metadata": {},
     "output_type": "execute_result"
    }
   ],
   "source": [
    "# cantidad de nulos por barrios\n",
    "\n",
    "data_porc_nulos = pd.DataFrame(x[\"place_name\"].value_counts())\n",
    "data_porc_nulos.rename(columns = {\"place_name\":\"nulos\"}, inplace = True)\n",
    "data_porc_todos = pd.DataFrame(data.place_name.value_counts())\n",
    "\n",
    "data_porc_todos\n",
    "data_porc = pd.concat([data_porc_nulos, data_porc_todos], axis = 1)\n",
    "data_porc[\"porc\"] = (data_porc.nulos/data_porc.place_name * 100).round(2)\n",
    "data_porc.sort_values(by = [\"porc\"], ascending = False)"
   ]
  },
  {
   "cell_type": "code",
   "execution_count": 9,
   "metadata": {},
   "outputs": [],
   "source": [
    "# menor al 25% de nulos imputamos por la media:\n",
    "\n",
    "palermo_viejo_nulos = x.place_name == \"Palermo Viejo\"\n",
    "x.loc[palermo_viejo_nulos,:] = 3065.84\n",
    "\n",
    "las_cañitas_nulos = x.place_name == \"Las Cañitas\"\n",
    "x.loc[las_cañitas_nulos,:] = 3478.26\n",
    "\n",
    "Palermo_Hollywood_nulos = x.place_name == \"Palermo Hollywood\"\n",
    "x.loc[Palermo_Hollywood_nulos,:] = 3186.76\n",
    "\n",
    "Boedo_nulos = x.place_name == \"Boedo\"\n",
    "x.loc[Boedo_nulos,:] = 10637.29\n",
    "\n",
    "Villa_Ortuzar_nulos =  x.place_name == \"Villa Ortuzar\"\n",
    "x.loc[Villa_Ortuzar_nulos,:] = 2339.69\n",
    "\n",
    "Parque_Centenario_nulos =  x.place_name == \"Parque Centenario\"\n",
    "x.loc[Parque_Centenario_nulos,:] = 2267.19\n",
    "\n",
    "Centro_Microcentro_nulos =  x.place_name == \"Centro / Microcentro\"\n",
    "x.loc[Centro_Microcentro_nulos,:] = 2548.98\n",
    "\n",
    "Barracas_nulos =  x.place_name == \"Barracas\"\n",
    "x.loc[Barracas_nulos,:] = 1977.81\n",
    "\n",
    "San_Telmo_nulos = x.place_name == \"San Telmo\"\n",
    "x.loc[San_Telmo_nulos,:] = 2295.08\n",
    "\n",
    "Villa_Crespo_nulos = x.place_name == \"Villa Crespo\"\n",
    "x.loc[Villa_Crespo_nulos,:] = 2519.02\n",
    "\n",
    "Abasto_nulos = x.place_name == \"Abasto\"\n",
    "x.loc[Abasto_nulos,:] = 2057.05\n",
    "\n",
    "Villa_General_Mitre = x.place_name == \"Villa General Mitre\"\n",
    "x.loc[Villa_General_Mitre,:] = 1800.70\n",
    "\n",
    "Boca_nulos = x.place_name == \"Boca\"\n",
    "x.loc[Boca_nulos,:] = 2073.90\n",
    "\n",
    "Constitucion_nulos = x.place_name == \"Constitución\"\n",
    "x.loc[Constitucion_nulos,:] = 1783.07\n",
    "\n",
    "Caballito_nulos = x.place_name == \"Caballito\"\n",
    "x.loc[Caballito_nulos,:] = 2471.56\n",
    "\n",
    "Belgrano_nulos = x.place_name == \"Belgrano\"\n",
    "x.loc[Belgrano_nulos,:] = 3155.18\n",
    "\n",
    "Coghlan_nulos = x.place_name ==  \"Coghlan\"\n",
    "x.loc[Coghlan_nulos,:] = 2528.63\n",
    "\n",
    "Congreso_nulos = x.place_name ==  \"Congreso\"\n",
    "x.loc[Congreso_nulos,:] = 2610.95\n",
    "\n",
    "Flores_nulos = x.place_name == \"Flores\"\n",
    "x.loc[Flores_nulos,:] = 2160.70\n",
    "\n",
    "Palermo_Soho_nulos = x.place_name == \"Palermo Soho\"\n",
    "x.loc[Palermo_Soho_nulos,:] = 3216.49\n",
    "\n",
    "Barrio_Norte_nulos = x.place_name == \"Barrio Norte\"\n",
    "x.loc[Barrio_Norte_nulos,:] = 3085.71\n",
    "\n",
    "Puerto_Madero_nulos = x.place_name == \"Puerto Madero\"\n",
    "x.loc[Puerto_Madero_nulos,:] = 6018.91\n",
    "\n",
    "Chacarita_nulos = x.place_name == \"Chacarita\"\n",
    "x.loc[Chacarita_nulos,:] = 2187.16\n",
    "\n",
    "Palermo_Chico_nulos = x.place_name == \"Palermo Chico\"\n",
    "x.loc[Palermo_Chico_nulos,:] = 4814.62\n",
    "\n",
    "Recoleta_nulos = x.place_name == \"Recoleta\"\n",
    "x.loc[Recoleta_nulos,:] = 3378.38\n",
    "\n",
    "Saavedra_nulos = x.place_name == \"Saavedra\"\n",
    "x.loc[Saavedra_nulos,:] = 2538.66"
   ]
  },
  {
   "cell_type": "code",
   "execution_count": null,
   "metadata": {},
   "outputs": [],
   "source": []
  },
  {
   "cell_type": "code",
   "execution_count": 10,
   "metadata": {},
   "outputs": [],
   "source": [
    "# armamos df con los valores imputados para concatenar al data original\n",
    "\n",
    "a = x.drop(\"place_name\",axis=1)\n",
    "a.rename(columns = {\"price_usd_per_m2\": \"precio_imputado\"}, inplace=True)"
   ]
  },
  {
   "cell_type": "code",
   "execution_count": 11,
   "metadata": {},
   "outputs": [
    {
     "data": {
      "text/html": [
       "<div>\n",
       "<style scoped>\n",
       "    .dataframe tbody tr th:only-of-type {\n",
       "        vertical-align: middle;\n",
       "    }\n",
       "\n",
       "    .dataframe tbody tr th {\n",
       "        vertical-align: top;\n",
       "    }\n",
       "\n",
       "    .dataframe thead th {\n",
       "        text-align: right;\n",
       "    }\n",
       "</style>\n",
       "<table border=\"1\" class=\"dataframe\">\n",
       "  <thead>\n",
       "    <tr style=\"text-align: right;\">\n",
       "      <th></th>\n",
       "      <th>precio_imputado</th>\n",
       "    </tr>\n",
       "    <tr>\n",
       "      <th>Id_caso</th>\n",
       "      <th></th>\n",
       "    </tr>\n",
       "  </thead>\n",
       "  <tbody>\n",
       "    <tr>\n",
       "      <th>3</th>\n",
       "      <td>NaN</td>\n",
       "    </tr>\n",
       "    <tr>\n",
       "      <th>97</th>\n",
       "      <td>2295.08</td>\n",
       "    </tr>\n",
       "    <tr>\n",
       "      <th>120</th>\n",
       "      <td>3155.18</td>\n",
       "    </tr>\n",
       "    <tr>\n",
       "      <th>137</th>\n",
       "      <td>NaN</td>\n",
       "    </tr>\n",
       "    <tr>\n",
       "      <th>157</th>\n",
       "      <td>NaN</td>\n",
       "    </tr>\n",
       "    <tr>\n",
       "      <th>...</th>\n",
       "      <td>...</td>\n",
       "    </tr>\n",
       "    <tr>\n",
       "      <th>121148</th>\n",
       "      <td>2160.70</td>\n",
       "    </tr>\n",
       "    <tr>\n",
       "      <th>121149</th>\n",
       "      <td>2471.56</td>\n",
       "    </tr>\n",
       "    <tr>\n",
       "      <th>121150</th>\n",
       "      <td>NaN</td>\n",
       "    </tr>\n",
       "    <tr>\n",
       "      <th>121151</th>\n",
       "      <td>2160.70</td>\n",
       "    </tr>\n",
       "    <tr>\n",
       "      <th>121152</th>\n",
       "      <td>2471.56</td>\n",
       "    </tr>\n",
       "  </tbody>\n",
       "</table>\n",
       "<p>7227 rows × 1 columns</p>\n",
       "</div>"
      ],
      "text/plain": [
       "         precio_imputado\n",
       "Id_caso                 \n",
       "3                    NaN\n",
       "97               2295.08\n",
       "120              3155.18\n",
       "137                  NaN\n",
       "157                  NaN\n",
       "...                  ...\n",
       "121148           2160.70\n",
       "121149           2471.56\n",
       "121150               NaN\n",
       "121151           2160.70\n",
       "121152           2471.56\n",
       "\n",
       "[7227 rows x 1 columns]"
      ]
     },
     "execution_count": 11,
     "metadata": {},
     "output_type": "execute_result"
    }
   ],
   "source": [
    "a"
   ]
  },
  {
   "cell_type": "code",
   "execution_count": 12,
   "metadata": {},
   "outputs": [],
   "source": [
    "# seteamos índices para concatenar\n",
    "\n",
    "data.set_index(\"Id_caso\", inplace = True)"
   ]
  },
  {
   "cell_type": "code",
   "execution_count": 13,
   "metadata": {},
   "outputs": [],
   "source": [
    "data_imputac = pd.concat([data, a], axis = 1)"
   ]
  },
  {
   "cell_type": "code",
   "execution_count": 14,
   "metadata": {},
   "outputs": [
    {
     "data": {
      "text/plain": [
       "7227"
      ]
     },
     "execution_count": 14,
     "metadata": {},
     "output_type": "execute_result"
    }
   ],
   "source": [
    "data_imputac.price_usd_per_m2.isnull().sum()"
   ]
  },
  {
   "cell_type": "code",
   "execution_count": 15,
   "metadata": {},
   "outputs": [],
   "source": [
    "# reemplazamos los valores imputados en la columna precio/mt2\n",
    "\n",
    "# 'price_per_m2'\n",
    "\n",
    "precios_no_nulos = data_imputac.precio_imputado.notnull()\n",
    "data_imputac.loc[precios_no_nulos, \"price_usd_per_m2\"] = data_imputac.loc[precios_no_nulos, \"precio_imputado\"]"
   ]
  },
  {
   "cell_type": "code",
   "execution_count": 16,
   "metadata": {},
   "outputs": [
    {
     "data": {
      "text/plain": [
       "3861"
      ]
     },
     "execution_count": 16,
     "metadata": {},
     "output_type": "execute_result"
    }
   ],
   "source": [
    "data_imputac.price_usd_per_m2.isnull().sum()"
   ]
  },
  {
   "cell_type": "code",
   "execution_count": 17,
   "metadata": {},
   "outputs": [
    {
     "data": {
      "text/plain": [
       "2512"
      ]
     },
     "execution_count": 17,
     "metadata": {},
     "output_type": "execute_result"
    }
   ],
   "source": [
    "data.price_per_m2.isnull().sum()"
   ]
  },
  {
   "cell_type": "code",
   "execution_count": 18,
   "metadata": {},
   "outputs": [
    {
     "data": {
      "text/plain": [
       "3861"
      ]
     },
     "execution_count": 18,
     "metadata": {},
     "output_type": "execute_result"
    }
   ],
   "source": [
    "data = data_imputac\n",
    "data.price_usd_per_m2.isnull().sum()"
   ]
  },
  {
   "cell_type": "code",
   "execution_count": null,
   "metadata": {},
   "outputs": [],
   "source": []
  },
  {
   "cell_type": "code",
   "execution_count": 19,
   "metadata": {},
   "outputs": [
    {
     "data": {
      "text/plain": [
       "3861"
      ]
     },
     "execution_count": 19,
     "metadata": {},
     "output_type": "execute_result"
    }
   ],
   "source": [
    "data.price_usd_per_m2.isnull().sum()"
   ]
  },
  {
   "cell_type": "code",
   "execution_count": 20,
   "metadata": {},
   "outputs": [
    {
     "data": {
      "text/plain": [
       "539"
      ]
     },
     "execution_count": 20,
     "metadata": {},
     "output_type": "execute_result"
    }
   ],
   "source": [
    "data.surface_total_in_m2.isnull().sum()\n"
   ]
  },
  {
   "cell_type": "code",
   "execution_count": 21,
   "metadata": {},
   "outputs": [
    {
     "data": {
      "text/plain": [
       "1617"
      ]
     },
     "execution_count": 21,
     "metadata": {},
     "output_type": "execute_result"
    }
   ],
   "source": [
    "data.surface_covered_in_m2.isnull().sum()"
   ]
  },
  {
   "cell_type": "code",
   "execution_count": null,
   "metadata": {},
   "outputs": [],
   "source": [
    "\n",
    "\n"
   ]
  },
  {
   "cell_type": "code",
   "execution_count": 22,
   "metadata": {},
   "outputs": [],
   "source": [
    "caba_place_name_mask = data.place_name != 'Capital Federal'\n",
    "surface_total_in_m2_notnull = data.surface_total_in_m2.notnull()\n",
    "surface_covered_mask_notnull = data.surface_covered_in_m2.notnull()\n",
    "price_usd_per_m2_mask_notnull = data.price_usd_per_m2.notnull()"
   ]
  },
  {
   "cell_type": "code",
   "execution_count": 23,
   "metadata": {},
   "outputs": [],
   "source": [
    "data = data.loc[caba_place_name_mask & surface_covered_mask_notnull & surface_total_in_m2_notnull & price_usd_per_m2_mask_notnull]"
   ]
  },
  {
   "cell_type": "code",
   "execution_count": 24,
   "metadata": {},
   "outputs": [
    {
     "data": {
      "text/plain": [
       "(24050, 36)"
      ]
     },
     "execution_count": 24,
     "metadata": {},
     "output_type": "execute_result"
    }
   ],
   "source": [
    "data.shape"
   ]
  },
  {
   "cell_type": "code",
   "execution_count": 25,
   "metadata": {},
   "outputs": [
    {
     "data": {
      "text/plain": [
       "property_type                     0\n",
       "place_with_parent_names           0\n",
       "country_name                      0\n",
       "state_name                        0\n",
       "lat-lon                        5719\n",
       "lat                            5719\n",
       "lon                            5719\n",
       "price                          1004\n",
       "currency                       1004\n",
       "price_aprox_local_currency     1004\n",
       "price_aprox_usd                 895\n",
       "floor                         22093\n",
       "rooms                          9170\n",
       "expenses                      18407\n",
       "description                       0\n",
       "title                             0\n",
       "Pais                              0\n",
       "Zona                              0\n",
       "Partido_barrio                    0\n",
       "Localidad                     22999\n",
       "Obs_localidad                 24050\n",
       "place_name                        0\n",
       "geonames_id                       0\n",
       "price_usd_per_m2                  0\n",
       "price_per_m2                   1006\n",
       "surface_total_in_m2               0\n",
       "surface_covered_in_m2             0\n",
       "cochera                       15724\n",
       "piscina                       18307\n",
       "parrilla                      17418\n",
       "baulera                       20280\n",
       "balcon                        16540\n",
       "terraza                       17715\n",
       "jardin                        23236\n",
       "lavadero                      17707\n",
       "precio_imputado               20869\n",
       "dtype: int64"
      ]
     },
     "execution_count": 25,
     "metadata": {},
     "output_type": "execute_result"
    }
   ],
   "source": [
    "data.isnull().sum()"
   ]
  },
  {
   "cell_type": "code",
   "execution_count": 26,
   "metadata": {},
   "outputs": [],
   "source": [
    "def remove_outlier(df_in, mask, col_name):\n",
    "    place_name_mask = df_in.place_name == mask\n",
    "    q1 = df_in.loc[place_name_mask, col_name].quantile(0.25)\n",
    "    q3 = df_in.loc[place_name_mask, col_name].quantile(0.75)\n",
    "    iqr = q3-q1 #Interquartile range\n",
    "    fence_low  = q1-1.5*iqr\n",
    "    fence_high = q3+1.5*iqr\n",
    "    df_out = df_in.loc[(df_in[col_name] > fence_low) & (df_in[col_name] < fence_high) & place_name_mask]\n",
    "    return df_out"
   ]
  },
  {
   "cell_type": "code",
   "execution_count": 27,
   "metadata": {},
   "outputs": [],
   "source": [
    "data2 = data.iloc[0:0]\n",
    "place_name_list = data.place_name.unique()\n",
    "for place_name_n in place_name_list:\n",
    "    df_final1 = remove_outlier(data, place_name_n,  \"price_usd_per_m2\")\n",
    "    data2 = data2.append(df_final1)"
   ]
  },
  {
   "cell_type": "code",
   "execution_count": 28,
   "metadata": {},
   "outputs": [
    {
     "data": {
      "text/plain": [
       "(22320, 36)"
      ]
     },
     "execution_count": 28,
     "metadata": {},
     "output_type": "execute_result"
    }
   ],
   "source": [
    "data2.shape"
   ]
  },
  {
   "cell_type": "code",
   "execution_count": 29,
   "metadata": {},
   "outputs": [],
   "source": [
    "property_type_dummies = pd.get_dummies(data2.property_type, prefix='prop_type', drop_first = True)\n",
    "\n",
    "data = pd.concat([data2, property_type_dummies], axis=1)"
   ]
  },
  {
   "cell_type": "code",
   "execution_count": 30,
   "metadata": {},
   "outputs": [],
   "source": [
    "place_name_dummies = pd.get_dummies(data.place_name, prefix='pn', drop_first = True)\n",
    "\n",
    "data = pd.concat([data, place_name_dummies], axis=1)"
   ]
  },
  {
   "cell_type": "code",
   "execution_count": 31,
   "metadata": {},
   "outputs": [
    {
     "data": {
      "text/plain": [
       "(22320, 98)"
      ]
     },
     "execution_count": 31,
     "metadata": {},
     "output_type": "execute_result"
    }
   ],
   "source": [
    "data.shape"
   ]
  },
  {
   "cell_type": "code",
   "execution_count": 32,
   "metadata": {},
   "outputs": [
    {
     "data": {
      "text/plain": [
       "Id_caso\n",
       "0         0\n",
       "2         0\n",
       "16        0\n",
       "254       0\n",
       "557       0\n",
       "         ..\n",
       "109935    0\n",
       "110797    0\n",
       "22956     0\n",
       "33674     0\n",
       "53056     0\n",
       "Name: baulera, Length: 22320, dtype: uint8"
      ]
     },
     "execution_count": 32,
     "metadata": {},
     "output_type": "execute_result"
    }
   ],
   "source": [
    "data.loc[data.cochera.isnull(), 'cochera'] = 0\n",
    "data.cochera.astype('uint8')\n",
    "\n",
    "data.loc[data.piscina.isnull(), 'piscina'] = 0\n",
    "data.piscina.astype('uint8')\n",
    "\n",
    "data.loc[data.lavadero.isnull(), 'lavadero'] = 0\n",
    "data.lavadero.astype('uint8')\n",
    "\n",
    "data.loc[data.parrilla.isnull(), 'parrilla'] = 0\n",
    "data.parrilla.astype('uint8')\n",
    "\n",
    "data.loc[data.terraza.isnull(), 'terraza'] = 0\n",
    "data.terraza.astype('uint8')\n",
    "\n",
    "data.loc[data.jardin.isnull(), 'jardin'] = 0\n",
    "data.jardin.astype('uint8')\n",
    "\n",
    "data.loc[data.balcon == 'Balcon', 'balcon'] = 1\n",
    "data.loc[data.balcon == 'BALCON', 'balcon'] = 1\n",
    "data.loc[data.balcon == 'balcon', 'balcon'] = 1\n",
    "data.loc[data.balcon.isnull(), 'balcon'] = 0\n",
    "data.balcon.astype('uint8')\n",
    "\n",
    "data.loc[data.baulera.isnull(), 'baulera'] = 0\n",
    "data.baulera.astype('uint8')"
   ]
  },
  {
   "cell_type": "code",
   "execution_count": 33,
   "metadata": {},
   "outputs": [],
   "source": [
    "nulos_piso = data.floor.isnull()\n",
    "data.loc[nulos_piso, \"floor\" ] = 4\n",
    "\n",
    "nulos_rooms = data.rooms.isnull()\n",
    "data.loc[nulos_rooms, \"rooms\" ] = 2"
   ]
  },
  {
   "cell_type": "code",
   "execution_count": 34,
   "metadata": {},
   "outputs": [],
   "source": [
    "erase_columns = ['property_type', 'place_with_parent_names', 'country_name', 'price_per_m2','state_name', 'lat-lon', 'lat', 'lon', 'price', 'currency',\n",
    "       'price_aprox_local_currency', 'expenses', 'description', 'title', 'Pais', 'Zona', 'Partido_barrio',\n",
    "       'Localidad', 'Obs_localidad', 'place_name']"
   ]
  },
  {
   "cell_type": "code",
   "execution_count": 35,
   "metadata": {},
   "outputs": [],
   "source": [
    "datad2 = data.drop(data[erase_columns], axis=1)"
   ]
  },
  {
   "cell_type": "code",
   "execution_count": 36,
   "metadata": {},
   "outputs": [
    {
     "data": {
      "text/plain": [
       "Index(['price_aprox_usd', 'floor', 'rooms', 'geonames_id', 'price_usd_per_m2',\n",
       "       'surface_total_in_m2', 'surface_covered_in_m2', 'cochera', 'piscina',\n",
       "       'parrilla', 'baulera', 'balcon', 'terraza', 'jardin', 'lavadero',\n",
       "       'precio_imputado', 'prop_type_apartment', 'prop_type_house',\n",
       "       'prop_type_store', 'pn_Agronomía', 'pn_Almagro', 'pn_Balvanera',\n",
       "       'pn_Barracas', 'pn_Barrio Norte', 'pn_Belgrano', 'pn_Boca', 'pn_Boedo',\n",
       "       'pn_Caballito', 'pn_Centro / Microcentro', 'pn_Chacarita', 'pn_Coghlan',\n",
       "       'pn_Colegiales', 'pn_Congreso', 'pn_Constitución', 'pn_Flores',\n",
       "       'pn_Floresta', 'pn_Las Cañitas', 'pn_Liniers', 'pn_Mataderos',\n",
       "       'pn_Monserrat', 'pn_Monte Castro', 'pn_Nuñez', 'pn_Once', 'pn_Palermo',\n",
       "       'pn_Palermo Chico', 'pn_Palermo Hollywood', 'pn_Palermo Soho',\n",
       "       'pn_Palermo Viejo', 'pn_Parque Avellaneda', 'pn_Parque Centenario',\n",
       "       'pn_Parque Chacabuco', 'pn_Parque Chas', 'pn_Parque Patricios',\n",
       "       'pn_Paternal', 'pn_Pompeya', 'pn_Puerto Madero', 'pn_Recoleta',\n",
       "       'pn_Retiro', 'pn_Saavedra', 'pn_San Cristobal', 'pn_San Nicolás',\n",
       "       'pn_San Telmo', 'pn_Tribunales', 'pn_Velez Sarsfield', 'pn_Versalles',\n",
       "       'pn_Villa Crespo', 'pn_Villa Devoto', 'pn_Villa General Mitre',\n",
       "       'pn_Villa Lugano', 'pn_Villa Luro', 'pn_Villa Ortuzar',\n",
       "       'pn_Villa Pueyrredón', 'pn_Villa Real', 'pn_Villa Riachuelo',\n",
       "       'pn_Villa Santa Rita', 'pn_Villa Soldati', 'pn_Villa Urquiza',\n",
       "       'pn_Villa del Parque'],\n",
       "      dtype='object')"
      ]
     },
     "execution_count": 36,
     "metadata": {},
     "output_type": "execute_result"
    }
   ],
   "source": [
    "datad2.columns"
   ]
  },
  {
   "cell_type": "code",
   "execution_count": 37,
   "metadata": {},
   "outputs": [
    {
     "data": {
      "text/plain": [
       "surface_total_in_m2      0\n",
       "surface_covered_in_m2    0\n",
       "cochera                  0\n",
       "piscina                  0\n",
       "parrilla                 0\n",
       "baulera                  0\n",
       "balcon                   0\n",
       "terraza                  0\n",
       "jardin                   0\n",
       "lavadero                 0\n",
       "price_usd_per_m2         0\n",
       "dtype: int64"
      ]
     },
     "execution_count": 37,
     "metadata": {},
     "output_type": "execute_result"
    }
   ],
   "source": [
    "n = ['surface_total_in_m2', 'surface_covered_in_m2', 'cochera', 'piscina',\n",
    "       'parrilla', 'baulera', 'balcon', 'terraza', 'jardin', 'lavadero', \"price_usd_per_m2\"]\n",
    "\n",
    "datad2[n].isnull().sum()"
   ]
  },
  {
   "cell_type": "code",
   "execution_count": 38,
   "metadata": {},
   "outputs": [],
   "source": [
    "from sklearn.linear_model import LinearRegression\n",
    "from sklearn.model_selection import train_test_split\n",
    "from sklearn.metrics import mean_absolute_error, mean_squared_error, r2_score\n",
    "from sklearn.preprocessing import StandardScaler"
   ]
  },
  {
   "cell_type": "code",
   "execution_count": 39,
   "metadata": {},
   "outputs": [
    {
     "name": "stdout",
     "output_type": "stream",
     "text": [
      "MAE: 889.79\n",
      "MSE: 4450185.95\n",
      "RMSE: 2109.55\n",
      "R2: 0.45\n"
     ]
    }
   ],
   "source": [
    "\n",
    "model = LinearRegression(fit_intercept=True)\n",
    "\n",
    "feature_cols = ['surface_total_in_m2', 'surface_covered_in_m2', 'cochera', 'piscina',\n",
    "       'parrilla', 'baulera', 'balcon', 'terraza', 'jardin', 'lavadero',\n",
    "       'prop_type_apartment', 'prop_type_house', 'prop_type_store',\n",
    "       'pn_Agronomía', 'pn_Almagro', 'pn_Balvanera', 'pn_Barracas',\n",
    "       'pn_Barrio Norte', 'pn_Belgrano', 'pn_Boca', 'pn_Boedo', 'pn_Caballito',\n",
    "       'pn_Centro / Microcentro', 'pn_Chacarita', 'pn_Coghlan',\n",
    "       'pn_Colegiales', 'pn_Congreso', 'pn_Constitución', 'pn_Flores',\n",
    "       'pn_Floresta', 'pn_Las Cañitas', 'pn_Liniers', 'pn_Mataderos',\n",
    "       'pn_Monserrat', 'pn_Monte Castro', 'pn_Nuñez', 'pn_Once', 'pn_Palermo',\n",
    "       'pn_Palermo Chico', 'pn_Palermo Hollywood', 'pn_Palermo Soho',\n",
    "       'pn_Palermo Viejo', 'pn_Parque Avellaneda', 'pn_Parque Centenario',\n",
    "       'pn_Parque Chacabuco', 'pn_Parque Chas', 'pn_Parque Patricios',\n",
    "       'pn_Paternal', 'pn_Pompeya', 'pn_Puerto Madero', 'pn_Recoleta',\n",
    "       'pn_Retiro', 'pn_Saavedra', 'pn_San Cristobal', 'pn_San Nicolás',\n",
    "       'pn_San Telmo', 'pn_Tribunales', 'pn_Velez Sarsfield', 'pn_Versalles',\n",
    "       'pn_Villa Crespo', 'pn_Villa Devoto', 'pn_Villa General Mitre',\n",
    "       'pn_Villa Lugano', 'pn_Villa Luro', 'pn_Villa Ortuzar',\n",
    "       'pn_Villa Pueyrredón', 'pn_Villa Real', 'pn_Villa Riachuelo',\n",
    "       'pn_Villa Santa Rita', 'pn_Villa Soldati', 'pn_Villa Urquiza',\n",
    "       'pn_Villa del Parque', 'floor', 'rooms']\n",
    "X = datad2[feature_cols]\n",
    "y = datad2.price_usd_per_m2\n",
    "\n",
    "Xtrain, Xtest, ytrain, ytest = train_test_split(X, y, random_state=1)\n",
    "\n",
    "scaler = StandardScaler()\n",
    "scaler.fit_transform(Xtrain)\n",
    "\n",
    "model.fit(Xtrain, ytrain)\n",
    "ypred = model.predict(Xtest)\n",
    "\n",
    "print ('MAE:', mean_absolute_error(ytest, ypred).round(2))\n",
    "print ('MSE:', mean_squared_error(ytest, ypred).round(2))\n",
    "print ('RMSE:', np.sqrt(mean_squared_error(ytest, ypred)).round(2))\n",
    "print ('R2:', r2_score(ytest, ypred).round(2))"
   ]
  },
  {
   "cell_type": "code",
   "execution_count": null,
   "metadata": {},
   "outputs": [],
   "source": []
  }
 ],
 "metadata": {
  "kernelspec": {
   "display_name": "Python 3",
   "language": "python",
   "name": "python3"
  },
  "language_info": {
   "codemirror_mode": {
    "name": "ipython",
    "version": 3
   },
   "file_extension": ".py",
   "mimetype": "text/x-python",
   "name": "python",
   "nbconvert_exporter": "python",
   "pygments_lexer": "ipython3",
   "version": "3.7.7"
  }
 },
 "nbformat": 4,
 "nbformat_minor": 4
}
